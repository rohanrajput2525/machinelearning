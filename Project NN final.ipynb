{
 "cells": [
  {
   "cell_type": "code",
   "execution_count": 1,
   "metadata": {},
   "outputs": [
    {
     "name": "stdout",
     "output_type": "stream",
     "text": [
      "Project Goal:- To detect and read house number signs in street view images\n"
     ]
    }
   ],
   "source": [
    "print('''Project Goal:- To detect and read house number signs in street view images''')"
   ]
  },
  {
   "cell_type": "markdown",
   "metadata": {},
   "source": [
    "# Dataset Overview:\n",
    "#  10 classes, 1 for each digit. Digit '1' has label 1, '9' has label 9 and '0' has label 10.\n",
    "    \n",
    "# comprises over 600,000 labeled characters. Out of which \n",
    "# 73257 digits for training, 26032 digits for testing, and 531131 additional.\n",
    "    "
   ]
  },
  {
   "cell_type": "code",
   "execution_count": 2,
   "metadata": {},
   "outputs": [],
   "source": [
    "import tensorflow as tf\n",
    "tf.reset_default_graph()\n",
    "import numpy as np\n",
    "import scipy.io as sio\n",
    "import matplotlib.pyplot as plt\n",
    "%matplotlib inline\n",
    "from sklearn.model_selection import train_test_split"
   ]
  },
  {
   "cell_type": "markdown",
   "metadata": {},
   "source": [
    "# As I am unable to read teh H5f file due to OSError . So I have downloaded the file directly from \"UFLD.standord.Edu/housenumbers\" site. There are three .mat files 1. train_32x32,2.test_32x32,3.extra_32x32."
   ]
  },
  {
   "cell_type": "code",
   "execution_count": 3,
   "metadata": {},
   "outputs": [],
   "source": [
    "# Reading train data by downloading from \"http://ufldl.stanford.edu/housenumbers/\"\n",
    "train_data = sio.loadmat('train_32x32.mat')\n",
    "\n",
    "# access to the dict\n",
    "x_train = train_data['X']\n",
    "y_train = train_data['y']\n",
    "\n",
    "# Reading test data by downloading from \"http://ufldl.stanford.edu/housenumbers/\"\n",
    "test_data = sio.loadmat('test_32x32.mat')\n",
    "\n",
    "# access to the dict\n",
    "x_test = test_data['X']\n",
    "y_test = test_data['y']\n"
   ]
  },
  {
   "cell_type": "code",
   "execution_count": 4,
   "metadata": {},
   "outputs": [],
   "source": [
    "# As Zero has level 10, hence replacing 10 with zero"
   ]
  },
  {
   "cell_type": "code",
   "execution_count": 5,
   "metadata": {},
   "outputs": [],
   "source": [
    "y_train[y_train == 10] = 0\n",
    "y_test[y_test == 10] = 0"
   ]
  },
  {
   "cell_type": "code",
   "execution_count": 6,
   "metadata": {},
   "outputs": [
    {
     "name": "stdout",
     "output_type": "stream",
     "text": [
      "(32, 32, 3, 73257) (73257, 1)\n",
      "(32, 32, 3, 26032) (26032, 1)\n"
     ]
    }
   ],
   "source": [
    "print(x_train.shape,y_train.shape) # printng shape of train images \n",
    "print(x_test.shape,y_test.shape) # printng shape of test images"
   ]
  },
  {
   "cell_type": "markdown",
   "metadata": {},
   "source": [
    "# Data Preprocessing"
   ]
  },
  {
   "cell_type": "code",
   "execution_count": 7,
   "metadata": {},
   "outputs": [],
   "source": [
    "image_size = 32  # Pixel width and height.\n",
    "pixel_depth = 255.0  # Number of levels per pixel.\n",
    "\n",
    "def immage_gray(image):\n",
    "    '''Normalize images'''\n",
    "    image = image.astype(float)\n",
    "    # Use the Conversion Method in This Paper:\n",
    "    # [http://www.eyemaginary.com/Rendering/TurnColorsGray.pdf]\n",
    "    image_gray = np.dot(image, [[0.2989],[0.5870],[0.1140]])\n",
    "    return image_gray\n",
    "\n"
   ]
  },
  {
   "cell_type": "code",
   "execution_count": 8,
   "metadata": {},
   "outputs": [
    {
     "name": "stdout",
     "output_type": "stream",
     "text": [
      "Test datasets are:-\n",
      "\n",
      "(26032, 32, 32, 3) (26032,)\n"
     ]
    }
   ],
   "source": [
    "# Preparing test data\n",
    "testx = x_test.transpose((3,0,1,2))\n",
    "testy = y_test[:,0]\n",
    "print(\"Test datasets are:-\\n\")\n",
    "print(testx.shape, testy.shape)"
   ]
  },
  {
   "cell_type": "code",
   "execution_count": 9,
   "metadata": {},
   "outputs": [
    {
     "name": "stdout",
     "output_type": "stream",
     "text": [
      "(26032, 32, 32) (26032,)\n"
     ]
    }
   ],
   "source": [
    "testx_final = immage_gray(testx)[:,:,:,0]\n",
    "#validx_final = immage_gray(validx)[:,:,:,0]\n",
    "\n",
    "#print(trainx_final.shape, trainy.shape)\n",
    "print(testx_final.shape,testy.shape)\n",
    "#print(validx_final.shape, validy.shape)"
   ]
  },
  {
   "cell_type": "code",
   "execution_count": 10,
   "metadata": {},
   "outputs": [
    {
     "name": "stdout",
     "output_type": "stream",
     "text": [
      "Train datasets are:-\n",
      "\n",
      "(73257, 32, 32, 3) (73257,)\n"
     ]
    }
   ],
   "source": [
    "# Preparing training data\n",
    "trainx = x_train.transpose((3,0,1,2))\n",
    "trainy = y_train[:,0]\n",
    "print(\"Train datasets are:-\\n\")\n",
    "print(trainx.shape, trainy.shape)"
   ]
  },
  {
   "cell_type": "code",
   "execution_count": 11,
   "metadata": {},
   "outputs": [
    {
     "name": "stdout",
     "output_type": "stream",
     "text": [
      "(73257, 32, 32) (73257,)\n"
     ]
    }
   ],
   "source": [
    "trainx_final = immage_gray(trainx)[:,:,:,0]\n",
    "print(trainx_final.shape,trainy.shape)"
   ]
  },
  {
   "cell_type": "code",
   "execution_count": 12,
   "metadata": {},
   "outputs": [
    {
     "name": "stdout",
     "output_type": "stream",
     "text": [
      "(73257, 32, 32) (73257,)\n"
     ]
    }
   ],
   "source": [
    "print(trainx_final.shape,trainy.shape)"
   ]
  },
  {
   "cell_type": "code",
   "execution_count": 13,
   "metadata": {},
   "outputs": [
    {
     "data": {
      "text/plain": [
       "array([[1],\n",
       "       [9],\n",
       "       [2],\n",
       "       ...,\n",
       "       [1],\n",
       "       [6],\n",
       "       [9]], dtype=uint8)"
      ]
     },
     "execution_count": 13,
     "metadata": {},
     "output_type": "execute_result"
    }
   ],
   "source": [
    "y_train.view()"
   ]
  },
  {
   "cell_type": "markdown",
   "metadata": {},
   "source": [
    "# The SVHN classification dataset contains 32x32\n",
    "# images with 3 color channels"
   ]
  },
  {
   "cell_type": "markdown",
   "metadata": {},
   "source": [
    "# Normalize the inputs for X_train, X_test and X_val"
   ]
  },
  {
   "cell_type": "code",
   "execution_count": 14,
   "metadata": {},
   "outputs": [
    {
     "name": "stdout",
     "output_type": "stream",
     "text": [
      "Column length of train data -\n",
      "1024\n",
      "Column length of test data -\n",
      "1024\n"
     ]
    }
   ],
   "source": [
    "# normalizing the independent data.\n",
    "image_size = 32  # Pixel width and height.\n",
    "pixel_depth = 255.0  # Number of levels per pixel.\n",
    "trainx, testx = trainx / 255.0, testx / 255.0\n",
    "\n",
    "# reshaping the data from 2D matrix into 1D vectors\n",
    "trainx = trainx_final.reshape(73257, 1024)\n",
    "testx = testx_final.reshape(26032, 1024)\n",
    "\n",
    "\n",
    "# Checking the column length\n",
    "\n",
    "print(f\"Column length of train data -\\n{trainx.shape[1]}\")\n",
    "print (f\"Column length of test data -\\n{testx.shape[1]}\")"
   ]
  },
  {
   "cell_type": "code",
   "execution_count": null,
   "metadata": {},
   "outputs": [],
   "source": [
    "# Let us consider of extra data for validation"
   ]
  },
  {
   "cell_type": "code",
   "execution_count": null,
   "metadata": {},
   "outputs": [],
   "source": [
    "# Reading extra data by downloading  from \"http://ufldl.stanford.edu/housenumbers/\"\n",
    "extra_data = sio.loadmat('extra_32x32.mat')\n",
    "\n",
    "# access to the dict\n",
    "x_extra = extra_data['X']\n",
    "y_extra = extra_data['y']\n",
    "y_extra[y_extra == 10] = 0\n",
    "print(x_extra.shape,y_extra.shape) # printng shape of extra images\n",
    "extrax = x_extra.transpose((3,0,1,2))\n",
    "extrax=extrax[:,:,:,0]\n",
    "extray = y_extra[:,0]\n",
    "print(\"Extra datasets are:-\\n\")\n",
    "print(extrax.shape, extray.shape)\n",
    "# reshaping the validation data same as size of test data from extrax dataset into 1D vectors\n",
    "validx = extrax.reshape(531131, 1024)\n",
    "print(f\"Column length of valid data -\\n{validx.shape[1]}\")\n",
    "print(validx.shape)\n"
   ]
  },
  {
   "cell_type": "code",
   "execution_count": null,
   "metadata": {},
   "outputs": [],
   "source": [
    "validdata=validx\n",
    "validx, X_test, validy, y_test = train_test_split(validdata,extray,test_size = 0.95, random_state = 7)"
   ]
  },
  {
   "cell_type": "code",
   "execution_count": 15,
   "metadata": {},
   "outputs": [
    {
     "name": "stdout",
     "output_type": "stream",
     "text": [
      "trainx shape is-(73257, 1024)\n",
      "trainy shape is-(73257,)\n",
      "testx shape is-(26032, 1024)\n",
      "testy shape is-(26032,)\n"
     ]
    }
   ],
   "source": [
    "print(f\"trainx shape is-{trainx.shape}\")\n",
    "print(f\"trainy shape is-{trainy.shape}\")\n",
    "print(f\"testx shape is-{testx.shape}\")\n",
    "print(f\"testy shape is-{testy.shape}\")\n",
    "#print(f\"validx shape is-{validx.shape}\")\n",
    "#print(f\"validy shape is-{validy.shape}\")\n"
   ]
  },
  {
   "cell_type": "markdown",
   "metadata": {},
   "source": [
    "# Visualize the first 10 images in X_train and the corresponding Y_train labels"
   ]
  },
  {
   "cell_type": "code",
   "execution_count": 28,
   "metadata": {},
   "outputs": [
    {
     "data": {
      "text/plain": [
       "<Figure size 720x720 with 0 Axes>"
      ]
     },
     "metadata": {},
     "output_type": "display_data"
    },
    {
     "data": {
      "image/png": "[encoded data removed]",
      "text/plain": [
       "<Figure size 432x288 with 10 Axes>"
      ]
     },
     "metadata": {},
     "output_type": "display_data"
    }
   ],
   "source": [
    "import matplotlib.pyplot as plt\n",
    "plt.figure(figsize=(10,10))\n",
    "plt.show()\n",
    "for i in range(10):\n",
    "    plt.subplot(10,10,i+1)\n",
    "    plt.xticks([])\n",
    "    plt.yticks([])\n",
    "    plt.grid(False)\n",
    "    plt.imshow(trainx_final[i], cmap=plt.cm.binary)\n",
    "    plt.xlabel(trainy[i])"
   ]
  },
  {
   "cell_type": "code",
   "execution_count": 30,
   "metadata": {},
   "outputs": [
    {
     "data": {
      "image/png": "[encoded data removed]",
      "text/plain": [
       "<Figure size 432x288 with 1 Axes>"
      ]
     },
     "metadata": {
      "needs_background": "light"
     },
     "output_type": "display_data"
    },
    {
     "name": "stdout",
     "output_type": "stream",
     "text": [
      "6\n"
     ]
    }
   ],
   "source": [
    "# showing two samples form trin data.\n",
    "image_ind = 21\n",
    "plt.imshow(trainx_final[image_ind])\n",
    "plt.show()\n",
    "print(trainy[image_ind])"
   ]
  },
  {
   "cell_type": "code",
   "execution_count": 15,
   "metadata": {},
   "outputs": [],
   "source": [
    "import tensorflow as tf\n",
    "tf.reset_default_graph()\n",
    "tf.set_random_seed(10) # used to reproducibility of results.\n"
   ]
  },
  {
   "cell_type": "markdown",
   "metadata": {},
   "source": [
    "# Convert class vectors(Dependent data) to binary class matrices (Converting to One Hot vector)"
   ]
  },
  {
   "cell_type": "code",
   "execution_count": 16,
   "metadata": {},
   "outputs": [],
   "source": [
    "\n",
    "num_classes = 10\n",
    "trainy = tf.keras.utils.to_categorical(trainy, num_classes)\n",
    "testy = tf.keras.utils.to_categorical(testy, num_classes)\n"
   ]
  },
  {
   "cell_type": "code",
   "execution_count": 17,
   "metadata": {},
   "outputs": [],
   "source": [
    "#validy = tf.keras.utils.to_categorical(validy, num_classes)"
   ]
  },
  {
   "cell_type": "code",
   "execution_count": 18,
   "metadata": {},
   "outputs": [
    {
     "name": "stdout",
     "output_type": "stream",
     "text": [
      "[0. 1. 0. 0. 0. 0. 0. 0. 0. 0.]\n",
      "[0. 0. 0. 0. 0. 1. 0. 0. 0. 0.]\n"
     ]
    }
   ],
   "source": [
    "print(trainy[0])\n",
    "print(testy[0])\n",
    "#print(validy[0])"
   ]
  },
  {
   "cell_type": "code",
   "execution_count": 18,
   "metadata": {},
   "outputs": [
    {
     "name": "stdout",
     "output_type": "stream",
     "text": [
      "We have 73257 train samples\n",
      "We have 26032 test samples\n"
     ]
    }
   ],
   "source": [
    "print(f'We have {trainx.shape[0]} train samples')\n",
    "print(f'We have {testx.shape[0]} test samples')"
   ]
  },
  {
   "cell_type": "markdown",
   "metadata": {},
   "source": [
    "# Defining hyper parameters"
   ]
  },
  {
   "cell_type": "code",
   "execution_count": 44,
   "metadata": {},
   "outputs": [],
   "source": [
    "\n",
    "epochs=30\n",
    "learning_rate = 0.1\n",
    "decay_rate = learning_rate / epochs\n",
    "momentum = 0.8\n",
    "# Defining sigmoid optimizer with default learning rate.\n",
    "sgd = tf.keras.optimizers.SGD()\n",
    "# Defining sigmoid optimizer with non_default learning rate.\n",
    "sgd_param=tf.keras.optimizers.SGD(lr=learning_rate, momentum=momentum, decay=decay_rate, nesterov=False)"
   ]
  },
  {
   "cell_type": "markdown",
   "metadata": {},
   "source": [
    "# Create a Sequential model in Keras with input layer with the correct input shape, Hidden Layers, Output Layers and the activation functions"
   ]
  },
  {
   "cell_type": "code",
   "execution_count": 37,
   "metadata": {},
   "outputs": [
    {
     "name": "stdout",
     "output_type": "stream",
     "text": [
      "1.14.0\n",
      "2.2.4-tf\n"
     ]
    }
   ],
   "source": [
    "print(tf.VERSION)\n",
    "print(tf.keras.__version__)"
   ]
  },
  {
   "cell_type": "code",
   "execution_count": 52,
   "metadata": {},
   "outputs": [],
   "source": [
    "input_shape = trainx.shape[1]"
   ]
  },
  {
   "cell_type": "code",
   "execution_count": 53,
   "metadata": {},
   "outputs": [
    {
     "data": {
      "text/plain": [
       "1024"
      ]
     },
     "execution_count": 53,
     "metadata": {},
     "output_type": "execute_result"
    }
   ],
   "source": [
    "input_shape"
   ]
  },
  {
   "cell_type": "code",
   "execution_count": 40,
   "metadata": {},
   "outputs": [
    {
     "name": "stdout",
     "output_type": "stream",
     "text": [
      "WARNING:tensorflow:From C:\\Users\\SARAT\\Anaconda3\\lib\\site-packages\\tensorflow\\python\\keras\\initializers.py:119: calling RandomUniform.__init__ (from tensorflow.python.ops.init_ops) with dtype is deprecated and will be removed in a future version.\n",
      "Instructions for updating:\n",
      "Call initializer instance with the dtype argument instead of passing it to the constructor\n"
     ]
    }
   ],
   "source": [
    "# build the model\n",
    "# As we have 32*32 matrix , so we need to create the layer for  the model by a vector instead of matrix\n",
    "# by reshaping 2d to 1d(32*32=1024= trainx.shape[1])\n",
    "input_shape = trainx.shape[1]\n",
    "\n",
    "lr_model = tf.keras.models.Sequential()\n",
    "# creating input layer with relu activation, kernel initializer=uniform and then normalizing the data\n",
    "lr_model.add(tf.keras.layers.Dense(100, activation=tf.nn.relu, kernel_initializer='uniform',input_dim = input_shape))\n",
    "# Normalizing the data by using Batchnormalization()\n",
    "lr_model.add(tf.keras.layers.BatchNormalization())\n"
   ]
  },
  {
   "cell_type": "code",
   "execution_count": 22,
   "metadata": {},
   "outputs": [],
   "source": [
    "# Creating hidden layers with relu activation function and Kernel initialzier=uniform \n",
    "# creating output layer with softmax to convert the output into probability with kernel initializer=uniform."
   ]
  },
  {
   "cell_type": "code",
   "execution_count": 41,
   "metadata": {},
   "outputs": [],
   "source": [
    "# 1st Hidden layer \n",
    "lr_model.add(tf.keras.layers.Dense(80,activation=tf.nn.relu, kernel_initializer='uniform'))\n",
    "\n",
    "lr_model.add(tf.keras.layers.BatchNormalization())\n",
    "\n",
    "# 2nd Hidden layer\n",
    "lr_model.add(tf.keras.layers.Dense(60,activation=tf.nn.relu, kernel_initializer='uniform'))\n",
    "\n",
    "# 3rd Hidden layer\n",
    "lr_model.add(tf.keras.layers.Dense(40,activation=tf.nn.relu, kernel_initializer='uniform'))\n",
    "\n",
    "# output layer\n",
    "lr_model.add(tf.keras.layers.Dense(num_classes, kernel_initializer='uniform', activation=tf.nn.softmax))\n",
    "\n",
    "#Compile the model using sgd\n",
    "#model.compile(optimizer=\"sgd_optimizer\", loss='categorical_crossentropy', metrics=['accuracy'])\n",
    "#Compile the model using adam\n",
    "#lr_model.compile(optimizer=sgd, loss='categorical_crossentropy', metrics=['accuracy'])\n",
    "lr_model.compile(optimizer=sgd_param, loss='categorical_crossentropy', metrics=['accuracy'])"
   ]
  },
  {
   "cell_type": "code",
   "execution_count": 42,
   "metadata": {},
   "outputs": [],
   "source": [
    "tf.keras.backend.clear_session()"
   ]
  },
  {
   "cell_type": "code",
   "execution_count": 43,
   "metadata": {},
   "outputs": [
    {
     "name": "stdout",
     "output_type": "stream",
     "text": [
      "Model: \"sequential\"\n",
      "_________________________________________________________________\n",
      "Layer (type)                 Output Shape              Param #   \n",
      "=================================================================\n",
      "dense (Dense)                (None, 100)               102500    \n",
      "_________________________________________________________________\n",
      "batch_normalization (BatchNo (None, 100)               400       \n",
      "_________________________________________________________________\n",
      "dense_1 (Dense)              (None, 80)                8080      \n",
      "_________________________________________________________________\n",
      "batch_normalization_1 (Batch (None, 80)                320       \n",
      "_________________________________________________________________\n",
      "dense_2 (Dense)              (None, 60)                4860      \n",
      "_________________________________________________________________\n",
      "dense_3 (Dense)              (None, 40)                2440      \n",
      "_________________________________________________________________\n",
      "dense_4 (Dense)              (None, 10)                410       \n",
      "=================================================================\n",
      "Total params: 119,010\n",
      "Trainable params: 118,650\n",
      "Non-trainable params: 360\n",
      "_________________________________________________________________\n"
     ]
    }
   ],
   "source": [
    "lr_model.summary()"
   ]
  },
  {
   "cell_type": "code",
   "execution_count": 45,
   "metadata": {},
   "outputs": [
    {
     "data": {
      "text/plain": [
       "(73257, 1024)"
      ]
     },
     "execution_count": 45,
     "metadata": {},
     "output_type": "execute_result"
    }
   ],
   "source": [
    "trainx.shape"
   ]
  },
  {
   "cell_type": "code",
   "execution_count": 46,
   "metadata": {},
   "outputs": [
    {
     "name": "stdout",
     "output_type": "stream",
     "text": [
      "Train on 73257 samples, validate on 26032 samples\n",
      "Epoch 1/30\n",
      "73257/73257 [==============================] - 169s 2ms/sample - loss: 2.0164 - acc: 0.2651 - val_loss: 2.4692 - val_acc: 0.2009\n",
      "Epoch 2/30\n",
      "73257/73257 [==============================] - 11s 150us/sample - loss: 1.8682 - acc: 0.3232 - val_loss: 2.2587 - val_acc: 0.3723\n",
      "Epoch 3/30\n",
      "73257/73257 [==============================] - 11s 147us/sample - loss: 1.7373 - acc: 0.3819 - val_loss: 2.0705 - val_acc: 0.4403\n",
      "Epoch 4/30\n",
      "73257/73257 [==============================] - 11s 149us/sample - loss: 1.6365 - acc: 0.4277 - val_loss: 2.0512 - val_acc: 0.4153\n",
      "Epoch 5/30\n",
      "73257/73257 [==============================] - 11s 148us/sample - loss: 1.6039 - acc: 0.4446 - val_loss: 2.0454 - val_acc: 0.4672\n",
      "Epoch 6/30\n",
      "73257/73257 [==============================] - 11s 157us/sample - loss: 1.5623 - acc: 0.4607 - val_loss: 1.9581 - val_acc: 0.4924\n",
      "Epoch 7/30\n",
      "73257/73257 [==============================] - 11s 153us/sample - loss: 1.5104 - acc: 0.4790 - val_loss: 1.8800 - val_acc: 0.4965\n",
      "Epoch 8/30\n",
      "73257/73257 [==============================] - 11s 149us/sample - loss: 1.4680 - acc: 0.4939 - val_loss: 3.0737 - val_acc: 0.5270\n",
      "Epoch 9/30\n",
      "73257/73257 [==============================] - 11s 150us/sample - loss: 1.4343 - acc: 0.5100 - val_loss: 2.1652 - val_acc: 0.5204\n",
      "Epoch 10/30\n",
      "73257/73257 [==============================] - 11s 150us/sample - loss: 1.4068 - acc: 0.5233 - val_loss: 2.6307 - val_acc: 0.5481\n",
      "Epoch 11/30\n",
      "73257/73257 [==============================] - 11s 154us/sample - loss: 1.3880 - acc: 0.5324 - val_loss: 2.4566 - val_acc: 0.5561\n",
      "Epoch 12/30\n",
      "73257/73257 [==============================] - 11s 150us/sample - loss: 1.3695 - acc: 0.5436 - val_loss: 4.5217 - val_acc: 0.5579\n",
      "Epoch 13/30\n",
      "73257/73257 [==============================] - 12s 159us/sample - loss: 1.3586 - acc: 0.5476 - val_loss: 2.0829 - val_acc: 0.5637\n",
      "Epoch 14/30\n",
      "73257/73257 [==============================] - 11s 152us/sample - loss: 1.3404 - acc: 0.5561 - val_loss: 2.4526 - val_acc: 0.5824\n",
      "Epoch 15/30\n",
      "73257/73257 [==============================] - 12s 159us/sample - loss: 1.3298 - acc: 0.5614 - val_loss: 2.1058 - val_acc: 0.5728\n",
      "Epoch 16/30\n",
      "73257/73257 [==============================] - 11s 150us/sample - loss: 1.3149 - acc: 0.5664 - val_loss: 2.2634 - val_acc: 0.5861\n",
      "Epoch 17/30\n",
      "73257/73257 [==============================] - 12s 161us/sample - loss: 1.3078 - acc: 0.5694 - val_loss: 2.3601 - val_acc: 0.5870\n",
      "Epoch 18/30\n",
      "73257/73257 [==============================] - 11s 153us/sample - loss: 1.2975 - acc: 0.5712 - val_loss: 2.2510 - val_acc: 0.5926\n",
      "Epoch 19/30\n",
      "73257/73257 [==============================] - 11s 152us/sample - loss: 1.2946 - acc: 0.5753 - val_loss: 2.4064 - val_acc: 0.5952\n",
      "Epoch 20/30\n",
      "73257/73257 [==============================] - 12s 169us/sample - loss: 1.2862 - acc: 0.5798 - val_loss: 2.1409 - val_acc: 0.5913\n",
      "Epoch 21/30\n",
      "73257/73257 [==============================] - 12s 164us/sample - loss: 1.2760 - acc: 0.5831 - val_loss: 3.5808 - val_acc: 0.6021\n",
      "Epoch 22/30\n",
      "73257/73257 [==============================] - 11s 151us/sample - loss: 1.2738 - acc: 0.5850 - val_loss: 2.5017 - val_acc: 0.5844\n",
      "Epoch 23/30\n",
      "73257/73257 [==============================] - 11s 153us/sample - loss: 1.2646 - acc: 0.5878 - val_loss: 5.1786 - val_acc: 0.5976\n",
      "Epoch 24/30\n",
      "73257/73257 [==============================] - 12s 161us/sample - loss: 1.2594 - acc: 0.5911 - val_loss: 3.4685 - val_acc: 0.6026\n",
      "Epoch 25/30\n",
      "73257/73257 [==============================] - 11s 157us/sample - loss: 1.2510 - acc: 0.5924 - val_loss: 2.4608 - val_acc: 0.5880\n",
      "Epoch 26/30\n",
      "73257/73257 [==============================] - 11s 157us/sample - loss: 1.2496 - acc: 0.5934 - val_loss: 2.0153 - val_acc: 0.6067\n",
      "Epoch 27/30\n",
      "73257/73257 [==============================] - 11s 152us/sample - loss: 1.2481 - acc: 0.5950 - val_loss: 2.0307 - val_acc: 0.5991\n",
      "Epoch 28/30\n",
      "73257/73257 [==============================] - 11s 152us/sample - loss: 1.2427 - acc: 0.5959 - val_loss: 3.5922 - val_acc: 0.6006\n",
      "Epoch 29/30\n",
      "73257/73257 [==============================] - 11s 152us/sample - loss: 1.2370 - acc: 0.5987 - val_loss: 3.6880 - val_acc: 0.5920\n",
      "Epoch 30/30\n",
      "73257/73257 [==============================] - 11s 151us/sample - loss: 1.2331 - acc: 0.5986 - val_loss: 2.8815 - val_acc: 0.6039\n",
      "Wall time: 8min 17s\n"
     ]
    }
   ],
   "source": [
    "%%time\n",
    "# Fit the model\n",
    "batch_size = int(input_shape/50)\n",
    "\n",
    "lr_model_history = lr_model.fit(trainx, trainy,\n",
    "                    batch_size=batch_size,\n",
    "                    epochs=epochs,\n",
    "                    verbose=1,\n",
    "                    validation_data=(testx, testy))"
   ]
  },
  {
   "cell_type": "code",
   "execution_count": null,
   "metadata": {},
   "outputs": [],
   "source": [
    "tf.keras.backend.clear_session()"
   ]
  },
  {
   "cell_type": "code",
   "execution_count": 51,
   "metadata": {},
   "outputs": [
    {
     "data": {
      "text/plain": [
       "32"
      ]
     },
     "execution_count": 51,
     "metadata": {},
     "output_type": "execute_result"
    }
   ],
   "source": [
    "input_shap"
   ]
  },
  {
   "cell_type": "code",
   "execution_count": 72,
   "metadata": {},
   "outputs": [],
   "source": [
    "# build another model with same optimizer sgd but with lr 0.01\n",
    "input_shape = trainx.shape[1]\n",
    "\n",
    "model = tf.keras.models.Sequential()\n",
    "model.add(tf.keras.layers.Dense(600, activation=tf.nn.relu, kernel_initializer='uniform',input_dim = input_shape))\n",
    "# Normalizing the data by using Batchnormalization()\n",
    "model.add(tf.keras.layers.BatchNormalization())\n",
    "# 1st Hidden layer \n",
    "model.add(tf.keras.layers.Dense(200,activation=tf.nn.relu, kernel_initializer='uniform'))\n",
    "\n",
    "model.add(tf.keras.layers.BatchNormalization())\n",
    "\n",
    "# 2nd Hidden layer\n",
    "model.add(tf.keras.layers.Dense(100,activation=tf.nn.relu, kernel_initializer='uniform'))\n",
    "\n",
    "# 3rd Hidden layer\n",
    "model.add(tf.keras.layers.Dense(60,activation=tf.nn.relu, kernel_initializer='uniform'))\n",
    "\n",
    "# output layer\n",
    "model.add(tf.keras.layers.Dense(num_classes, kernel_initializer='uniform', activation=tf.nn.softmax))\n",
    "\n",
    "\n",
    "\n",
    "#rms = tf.keras.optimizers.RMSprop(lr=0.001, rho=0.9, epsilon=None, decay=0.0)\n",
    "sgd_param=tf.keras.optimizers.SGD(lr=0.01, momentum=momentum, decay=decay_rate, nesterov=False)\n",
    "model.compile(loss='categorical_crossentropy',\n",
    "              optimizer=sgd_param,\n",
    "              metrics=['acc'])"
   ]
  },
  {
   "cell_type": "code",
   "execution_count": 73,
   "metadata": {},
   "outputs": [
    {
     "name": "stdout",
     "output_type": "stream",
     "text": [
      "Model: \"sequential\"\n",
      "_________________________________________________________________\n",
      "Layer (type)                 Output Shape              Param #   \n",
      "=================================================================\n",
      "dense (Dense)                (None, 600)               615000    \n",
      "_________________________________________________________________\n",
      "batch_normalization (BatchNo (None, 600)               2400      \n",
      "_________________________________________________________________\n",
      "dense_1 (Dense)              (None, 200)               120200    \n",
      "_________________________________________________________________\n",
      "batch_normalization_1 (Batch (None, 200)               800       \n",
      "_________________________________________________________________\n",
      "dense_2 (Dense)              (None, 100)               20100     \n",
      "_________________________________________________________________\n",
      "dense_3 (Dense)              (None, 60)                6060      \n",
      "_________________________________________________________________\n",
      "dense_4 (Dense)              (None, 10)                610       \n",
      "=================================================================\n",
      "Total params: 765,170\n",
      "Trainable params: 763,570\n",
      "Non-trainable params: 1,600\n",
      "_________________________________________________________________\n"
     ]
    }
   ],
   "source": [
    "model.summary()"
   ]
  },
  {
   "cell_type": "code",
   "execution_count": 74,
   "metadata": {},
   "outputs": [
    {
     "name": "stdout",
     "output_type": "stream",
     "text": [
      "Train on 73257 samples, validate on 26032 samples\n",
      "Epoch 1/30\n",
      "73257/73257 [==============================] - 26s 360us/sample - loss: 2.0071 - acc: 0.2668 - val_loss: 2.0497 - val_acc: 0.2844\n",
      "Epoch 2/30\n",
      "73257/73257 [==============================] - 26s 354us/sample - loss: 1.5667 - acc: 0.4521 - val_loss: 1.6026 - val_acc: 0.4811\n",
      "Epoch 3/30\n",
      "73257/73257 [==============================] - 26s 349us/sample - loss: 1.3696 - acc: 0.5343 - val_loss: 1.6127 - val_acc: 0.5080\n",
      "Epoch 4/30\n",
      "73257/73257 [==============================] - 26s 349us/sample - loss: 1.2435 - acc: 0.5767 - val_loss: 1.5018 - val_acc: 0.5658\n",
      "Epoch 5/30\n",
      "73257/73257 [==============================] - 26s 357us/sample - loss: 1.1523 - acc: 0.6173 - val_loss: 1.4157 - val_acc: 0.6189\n",
      "Epoch 6/30\n",
      "73257/73257 [==============================] - 26s 349us/sample - loss: 1.0837 - acc: 0.6521 - val_loss: 1.3749 - val_acc: 0.6381\n",
      "Epoch 7/30\n",
      "73257/73257 [==============================] - 25s 345us/sample - loss: 1.0235 - acc: 0.6768 - val_loss: 1.3143 - val_acc: 0.6728\n",
      "Epoch 8/30\n",
      "73257/73257 [==============================] - 25s 344us/sample - loss: 0.9730 - acc: 0.6957 - val_loss: 1.3029 - val_acc: 0.6866\n",
      "Epoch 9/30\n",
      "73257/73257 [==============================] - 25s 346us/sample - loss: 0.9373 - acc: 0.7075 - val_loss: 1.2831 - val_acc: 0.6943\n",
      "Epoch 10/30\n",
      "73257/73257 [==============================] - 25s 347us/sample - loss: 0.9069 - acc: 0.7192 - val_loss: 1.2532 - val_acc: 0.7152\n",
      "Epoch 11/30\n",
      "73257/73257 [==============================] - 25s 345us/sample - loss: 0.8778 - acc: 0.7284 - val_loss: 1.3077 - val_acc: 0.6843\n",
      "Epoch 12/30\n",
      "73257/73257 [==============================] - 25s 340us/sample - loss: 0.8573 - acc: 0.7356 - val_loss: 1.2451 - val_acc: 0.7303\n",
      "Epoch 13/30\n",
      "73257/73257 [==============================] - 26s 356us/sample - loss: 0.8364 - acc: 0.7420 - val_loss: 1.2557 - val_acc: 0.7212\n",
      "Epoch 14/30\n",
      "73257/73257 [==============================] - 25s 346us/sample - loss: 0.8223 - acc: 0.7477 - val_loss: 1.2077 - val_acc: 0.7356\n",
      "Epoch 15/30\n",
      "73257/73257 [==============================] - 25s 344us/sample - loss: 0.8048 - acc: 0.7527 - val_loss: 1.2172 - val_acc: 0.7329\n",
      "Epoch 16/30\n",
      "73257/73257 [==============================] - 25s 341us/sample - loss: 0.7882 - acc: 0.7575 - val_loss: 1.2536 - val_acc: 0.7380\n",
      "Epoch 17/30\n",
      "73257/73257 [==============================] - 25s 339us/sample - loss: 0.7720 - acc: 0.7639 - val_loss: 1.2956 - val_acc: 0.7444\n",
      "Epoch 18/30\n",
      "73257/73257 [==============================] - 25s 337us/sample - loss: 0.7604 - acc: 0.7669 - val_loss: 1.2517 - val_acc: 0.7401\n",
      "Epoch 19/30\n",
      "73257/73257 [==============================] - 25s 341us/sample - loss: 0.7529 - acc: 0.7698 - val_loss: 1.2994 - val_acc: 0.7528\n",
      "Epoch 20/30\n",
      "73257/73257 [==============================] - 25s 338us/sample - loss: 0.7408 - acc: 0.7737 - val_loss: 1.1919 - val_acc: 0.75610.773\n",
      "Epoch 21/30\n",
      "73257/73257 [==============================] - 25s 339us/sample - loss: 0.7323 - acc: 0.7750 - val_loss: 1.2656 - val_acc: 0.7467\n",
      "Epoch 22/30\n",
      "73257/73257 [==============================] - 26s 352us/sample - loss: 0.7231 - acc: 0.7795 - val_loss: 1.2735 - val_acc: 0.7569\n",
      "Epoch 23/30\n",
      "73257/73257 [==============================] - 25s 340us/sample - loss: 0.7152 - acc: 0.7815 - val_loss: 1.2635 - val_acc: 0.7572\n",
      "Epoch 24/30\n",
      "73257/73257 [==============================] - 25s 337us/sample - loss: 0.7039 - acc: 0.7857 - val_loss: 1.2495 - val_acc: 0.7614\n",
      "Epoch 25/30\n",
      "73257/73257 [==============================] - 25s 339us/sample - loss: 0.7001 - acc: 0.7869 - val_loss: 1.2835 - val_acc: 0.7612\n",
      "Epoch 26/30\n",
      "73257/73257 [==============================] - 24s 331us/sample - loss: 0.6949 - acc: 0.7877 - val_loss: 1.2708 - val_acc: 0.7598\n",
      "Epoch 27/30\n",
      "73257/73257 [==============================] - 25s 340us/sample - loss: 0.6898 - acc: 0.7885 - val_loss: 1.3050 - val_acc: 0.7650\n",
      "Epoch 28/30\n",
      "73257/73257 [==============================] - 24s 331us/sample - loss: 0.6825 - acc: 0.7920 - val_loss: 1.2926 - val_acc: 0.7666\n",
      "Epoch 29/30\n",
      "73257/73257 [==============================] - 25s 344us/sample - loss: 0.6760 - acc: 0.7940 - val_loss: 1.2913 - val_acc: 0.7662\n",
      "Epoch 30/30\n",
      "73257/73257 [==============================] - 24s 329us/sample - loss: 0.6718 - acc: 0.7947 - val_loss: 1.2533 - val_acc: 0.7738\n",
      "Wall time: 12min 36s\n"
     ]
    }
   ],
   "source": [
    "%%time\n",
    "# Fit the model\n",
    "batch_size = int(input_shape/25)\n",
    "\n",
    "lr_model_history = model.fit(trainx, trainy,\n",
    "                    batch_size=batch_size,\n",
    "                    epochs=epochs,\n",
    "                    verbose=1,\n",
    "                    validation_data=(testx, testy))"
   ]
  },
  {
   "cell_type": "code",
   "execution_count": 70,
   "metadata": {},
   "outputs": [],
   "source": []
  },
  {
   "cell_type": "markdown",
   "metadata": {},
   "source": [
    "# By increasing the batch size from(50% of inputsize to 25% of input size)and decreasing the learning rate from 0.01 to 0.001,\n",
    "# for 30 epoch, training loss has been decreased from 1.23 to 0.66 and accuracy on training set increased from 59 to 79% simillary\n",
    "# on test set val_loss has been decreased from 2.8 to 1.28 and accuracy increased from 60% 77%."
   ]
  },
  {
   "cell_type": "code",
   "execution_count": null,
   "metadata": {},
   "outputs": [],
   "source": [
    "# ploting the score through model.eavluate"
   ]
  },
  {
   "cell_type": "code",
   "execution_count": 76,
   "metadata": {},
   "outputs": [
    {
     "name": "stdout",
     "output_type": "stream",
     "text": [
      "Test loss: 1.2532615515998191\n",
      "Test accuracy: 0.77377844\n"
     ]
    },
    {
     "data": {
      "image/png": "[encoded data removed]",
      "text/plain": [
       "<Figure size 720x432 with 1 Axes>"
      ]
     },
     "metadata": {
      "needs_background": "light"
     },
     "output_type": "display_data"
    },
    {
     "data": {
      "image/png": "[encoded data removed]",
      "text/plain": [
       "<Figure size 720x432 with 1 Axes>"
      ]
     },
     "metadata": {
      "needs_background": "light"
     },
     "output_type": "display_data"
    }
   ],
   "source": [
    "score = model.evaluate(testx, testy, verbose=0)\n",
    "print('Test loss:', score[0])\n",
    "print('Test accuracy:', score[1])\n",
    "\n",
    "fig, ax = plt.subplots(1, 1, figsize=(10,6))\n",
    "ax.plot(np.sqrt(lr_model_history.history['acc']), 'r', label='train_acc')\n",
    "ax.plot(np.sqrt(lr_model_history.history['val_acc']), 'b' ,label='val_acc')\n",
    "ax.set_xlabel(r'Epoch', fontsize=20)\n",
    "ax.set_ylabel(r'Accuracy', fontsize=20)\n",
    "ax.legend()\n",
    "ax.tick_params(labelsize=20)\n",
    "\n",
    "fig, ax = plt.subplots(1, 1, figsize=(10,6))\n",
    "ax.plot(np.sqrt(lr_model_history.history['loss']), 'r', label='train')\n",
    "ax.plot(np.sqrt(lr_model_history.history['val_loss']), 'b' ,label='val')\n",
    "ax.set_xlabel(r'Epoch', fontsize=20)\n",
    "ax.set_ylabel(r'Loss', fontsize=20)\n",
    "ax.legend()\n",
    "ax.tick_params(labelsize=20)"
   ]
  },
  {
   "cell_type": "code",
   "execution_count": null,
   "metadata": {},
   "outputs": [],
   "source": [
    "# There is sudden change in accuracy after Epoch no 10 but the validation loss is very high."
   ]
  },
  {
   "cell_type": "code",
   "execution_count": 21,
   "metadata": {
    "scrolled": true
   },
   "outputs": [],
   "source": [
    "tf.keras.backend.clear_session()"
   ]
  },
  {
   "cell_type": "code",
   "execution_count": 22,
   "metadata": {},
   "outputs": [],
   "source": [
    "# Create a function for the model.\n",
    "# Let us hyper tune the model by using grid seachcv\n"
   ]
  },
  {
   "cell_type": "code",
   "execution_count": 24,
   "metadata": {},
   "outputs": [],
   "source": [
    "epochs=10\n",
    "learning_rate = 0.001\n",
    "decay_rate = learning_rate / epochs\n",
    "momentum = 0.8\n",
    "num_classes=10\n",
    "sgd_param=tf.keras.optimizers.SGD()\n",
    "def create_model(optimizer='sgd_param', init='glorot_uniform',learn_rate=0.001, momentum=0):\n",
    "    input_shape = trainx.shape[1]\n",
    "    model = tf.keras.models.Sequential()\n",
    "    model.add(tf.keras.layers.Dense(600, activation=tf.nn.relu, kernel_initializer=init,input_dim = input_shape))\n",
    "    model.add(tf.keras.layers.BatchNormalization())\n",
    "    model.add(tf.keras.layers.Dense(200,activation=tf.nn.relu, kernel_initializer=init))\n",
    "    model.add(tf.keras.layers.Dense(100,activation=tf.nn.relu, kernel_initializer=init))\n",
    "    model.add(tf.keras.layers.Dense(60,activation=tf.nn.relu, kernel_initializer=init))\n",
    "    model.add(tf.keras.layers.Dense(num_classes, kernel_initializer=init, activation=tf.nn.softmax))\n",
    "    \n",
    "    # compile model\n",
    "    model.compile(loss='categorical_crossentropy', \n",
    "                  optimizer=optimizer, \n",
    "                  metrics=['accuracy'])\n",
    "\n",
    "    return model"
   ]
  },
  {
   "cell_type": "code",
   "execution_count": 25,
   "metadata": {},
   "outputs": [],
   "source": [
    "from sklearn.model_selection import GridSearchCV"
   ]
  },
  {
   "cell_type": "code",
   "execution_count": 26,
   "metadata": {},
   "outputs": [],
   "source": [
    "SGD=tf.keras.optimizers.SGD()\n",
    "RMSprop=tf.keras.optimizers.RMSprop()\n",
    "Adam=tf.keras.optimizers.Adam()"
   ]
  },
  {
   "cell_type": "code",
   "execution_count": null,
   "metadata": {},
   "outputs": [],
   "source": []
  },
  {
   "cell_type": "code",
   "execution_count": 27,
   "metadata": {},
   "outputs": [
    {
     "name": "stdout",
     "output_type": "stream",
     "text": [
      "Wall time: 314 ms\n"
     ]
    }
   ],
   "source": [
    "\n",
    "%%time\n",
    "# fix random seed for reproducibility (this might work or might not work \n",
    "# depending on each library's implenentation)\n",
    "seed = 7\n",
    "import numpy as np\n",
    "np.random.seed(seed)\n",
    "input_shape = trainx.shape[1]\n",
    "batch1=int(input_shape/25)\n",
    "batch2=int(input_shape/15)\n",
    "batch3=int(input_shape/10)\n",
    "# create the sklearn model for the network\n",
    "model_init_batch_epoch_CV = tf.keras.wrappers.scikit_learn.KerasClassifier(build_fn=create_model, verbose=1)\n",
    "\n",
    "# we choose the initializers that came at the top in our previous cross-validation!!\n",
    "#init_mode = init_mode = ['uniform', 'lecun_uniform', 'normal', 'zero','glorot_normal', 'glorot_uniform', 'he_normal', 'he_uniform']\n",
    "init_mode = ['uniform', 'glorot_uniform',]\n",
    "#batches = [batch1,batch2,batch3]\n",
    "batches = [batch3]\n",
    "epochs = [10]\n",
    "#optimizer = ['SGD', 'RMSprop', 'Adagrad', 'Adadelta', 'Adam', 'Adamax', 'Nadam'] \n",
    "optimizer = ['RMSprop','Adam'] \n",
    "learn_rate = [0.002] # Tuning Learning rate.\n",
    "momentum = [0.6] # Tunning momentum\n",
    "# grid search for initializer, batch size and number of epochs\n",
    "param_grid = dict(epochs=epochs, batch_size=batches, init=init_mode,optimizer=optimizer,learn_rate=learn_rate, momentum=momentum)\n",
    "grid = GridSearchCV(estimator=model_init_batch_epoch_CV, \n",
    "                    param_grid=param_grid,\n",
    "                    cv=3)\n"
   ]
  },
  {
   "cell_type": "code",
   "execution_count": 28,
   "metadata": {},
   "outputs": [
    {
     "name": "stdout",
     "output_type": "stream",
     "text": [
      "WARNING:tensorflow:From C:\\Users\\SARAT\\Anaconda3\\lib\\site-packages\\tensorflow\\python\\keras\\initializers.py:119: calling RandomUniform.__init__ (from tensorflow.python.ops.init_ops) with dtype is deprecated and will be removed in a future version.\n",
      "Instructions for updating:\n",
      "Call initializer instance with the dtype argument instead of passing it to the constructor\n",
      "Epoch 1/10\n",
      "48838/48838 [==============================] - 16s 321us/sample - loss: 1.8355 - acc: 0.3382\n",
      "Epoch 2/10\n",
      "48838/48838 [==============================] - 13s 259us/sample - loss: 1.4628 - acc: 0.4992\n",
      "Epoch 3/10\n",
      "48838/48838 [==============================] - 12s 244us/sample - loss: 1.2395 - acc: 0.5980\n",
      "Epoch 4/10\n",
      "48838/48838 [==============================] - 13s 258us/sample - loss: 1.1094 - acc: 0.6480\n",
      "Epoch 5/10\n",
      "48838/48838 [==============================] - 13s 257us/sample - loss: 1.0065 - acc: 0.6815\n",
      "Epoch 6/10\n",
      "48838/48838 [==============================] - 12s 256us/sample - loss: 0.9179 - acc: 0.7110\n",
      "Epoch 7/10\n",
      "48838/48838 [==============================] - 13s 258us/sample - loss: 0.8358 - acc: 0.7378\n",
      "Epoch 8/10\n",
      "48838/48838 [==============================] - 12s 247us/sample - loss: 0.7728 - acc: 0.7592\n",
      "Epoch 9/10\n",
      "48838/48838 [==============================] - 13s 260us/sample - loss: 0.7267 - acc: 0.7704\n",
      "Epoch 10/10\n",
      "48838/48838 [==============================] - 12s 241us/sample - loss: 0.6920 - acc: 0.7845\n",
      "24419/24419 [==============================] - 2s 73us/sample - loss: 1.2376 - acc: 0.6532\n",
      "Epoch 1/10\n",
      "48838/48838 [==============================] - 13s 274us/sample - loss: 1.7888 - acc: 0.3628\n",
      "Epoch 2/10\n",
      "48838/48838 [==============================] - 12s 246us/sample - loss: 1.4224 - acc: 0.5166\n",
      "Epoch 3/10\n",
      "48838/48838 [==============================] - 13s 268us/sample - loss: 1.2139 - acc: 0.6059\n",
      "Epoch 4/10\n",
      "48838/48838 [==============================] - 13s 257us/sample - loss: 1.0784 - acc: 0.6608\n",
      "Epoch 5/10\n",
      "48838/48838 [==============================] - 12s 243us/sample - loss: 0.9828 - acc: 0.6908\n",
      "Epoch 6/10\n",
      "48838/48838 [==============================] - 13s 259us/sample - loss: 0.9192 - acc: 0.7095\n",
      "Epoch 7/10\n",
      "48838/48838 [==============================] - 12s 242us/sample - loss: 0.8779 - acc: 0.7219\n",
      "Epoch 8/10\n",
      "48838/48838 [==============================] - 12s 255us/sample - loss: 0.8252 - acc: 0.7400\n",
      "Epoch 9/10\n",
      "48838/48838 [==============================] - 12s 253us/sample - loss: 0.7784 - acc: 0.7553\n",
      "Epoch 10/10\n",
      "48838/48838 [==============================] - 12s 246us/sample - loss: 0.7304 - acc: 0.7716\n",
      "24419/24419 [==============================] - 2s 85us/sample - loss: 1.1621 - acc: 0.6415\n",
      "Epoch 1/10\n",
      "48838/48838 [==============================] - 14s 279us/sample - loss: 1.7819 - acc: 0.3624\n",
      "Epoch 2/10\n",
      "48838/48838 [==============================] - 13s 264us/sample - loss: 1.4319 - acc: 0.5133\n",
      "Epoch 3/10\n",
      "48838/48838 [==============================] - 13s 270us/sample - loss: 1.2373 - acc: 0.5962\n",
      "Epoch 4/10\n",
      "48838/48838 [==============================] - 13s 260us/sample - loss: 1.1179 - acc: 0.6435\n",
      "Epoch 5/10\n",
      "48838/48838 [==============================] - 13s 259us/sample - loss: 1.0038 - acc: 0.6861\n",
      "Epoch 6/10\n",
      "48838/48838 [==============================] - 12s 242us/sample - loss: 0.9316 - acc: 0.7068 - loss: 0.9335 - acc: 0\n",
      "Epoch 7/10\n",
      "48838/48838 [==============================] - 12s 248us/sample - loss: 0.8623 - acc: 0.7313\n",
      "Epoch 8/10\n",
      "48838/48838 [==============================] - 12s 254us/sample - loss: 0.7974 - acc: 0.7511\n",
      "Epoch 9/10\n",
      "48838/48838 [==============================] - 12s 250us/sample - loss: 0.7433 - acc: 0.7675 - loss: 0.7430 - acc: 0.7 - ETA: 0s - loss: 0.7429 - acc:  - ETA: 0s - loss: 0.7432 - acc: 0\n",
      "Epoch 10/10\n",
      "48838/48838 [==============================] - 13s 267us/sample - loss: 0.7074 - acc: 0.7803\n",
      "24419/24419 [==============================] - 2s 73us/sample - loss: 1.0049 - acc: 0.6869\n",
      "Epoch 1/10\n",
      "48838/48838 [==============================] - 9s 191us/sample - loss: 1.7393 - acc: 0.3785s - loss: 1.7578 - a\n",
      "Epoch 2/10\n",
      "48838/48838 [==============================] - 9s 185us/sample - loss: 1.3321 - acc: 0.5550\n",
      "Epoch 3/10\n",
      "48838/48838 [==============================] - 9s 174us/sample - loss: 1.1352 - acc: 0.6359s - l\n",
      "Epoch 4/10\n",
      "48838/48838 [==============================] - 8s 166us/sample - loss: 0.9833 - acc: 0.6909s - loss: 0\n",
      "Epoch 5/10\n",
      "48838/48838 [==============================] - 8s 166us/sample - loss: 0.8876 - acc: 0.7206s - loss: 0.8904 - acc:\n",
      "Epoch 6/10\n",
      "48838/48838 [==============================] - 9s 183us/sample - loss: 0.8196 - acc: 0.7389\n",
      "Epoch 7/10\n",
      "48838/48838 [==============================] - 8s 170us/sample - loss: 0.7605 - acc: 0.7609s - loss: 0.7603 - acc: 0.76 - ETA: 0s - loss: 0.7601 - ac\n",
      "Epoch 8/10\n",
      "48838/48838 [==============================] - 9s 181us/sample - loss: 0.7053 - acc: 0.7795s \n",
      "Epoch 9/10\n",
      "48838/48838 [==============================] - 9s 187us/sample - loss: 0.6696 - acc: 0.7903\n",
      "Epoch 10/10\n",
      "48838/48838 [==============================] - ETA: 0s - loss: 0.6424 - acc: 0.7984- ETA: 1s - lo - 9s 192us/sample - loss: 0.6422 - acc: 0.7986\n",
      "24419/24419 [==============================] - 2s 76us/sample - loss: 0.8325 - acc: 0.7441\n",
      "Epoch 1/10\n",
      "48838/48838 [==============================] - 9s 184us/sample - loss: 1.7159 - acc: 0.3916\n",
      "Epoch 2/10\n",
      "48838/48838 [==============================] - 9s 192us/sample - loss: 1.2541 - acc: 0.5933\n",
      "Epoch 3/10\n",
      "48838/48838 [==============================] - 8s 167us/sample - loss: 1.1003 - acc: 0.6514\n",
      "Epoch 4/10\n",
      "48838/48838 [==============================] - 8s 163us/sample - loss: 0.9896 - acc: 0.6899\n",
      "Epoch 5/10\n",
      "48838/48838 [==============================] - 8s 166us/sample - loss: 0.8853 - acc: 0.7226\n",
      "Epoch 6/10\n",
      "48838/48838 [==============================] - 9s 181us/sample - loss: 0.8173 - acc: 0.7436\n",
      "Epoch 7/10\n",
      "48838/48838 [==============================] - 8s 168us/sample - loss: 0.7576 - acc: 0.7628\n",
      "Epoch 8/10\n",
      "48838/48838 [==============================] - 8s 172us/sample - loss: 0.7148 - acc: 0.7763\n",
      "Epoch 9/10\n",
      "48838/48838 [==============================] - 9s 191us/sample - loss: 0.6752 - acc: 0.7899\n",
      "Epoch 10/10\n",
      "48838/48838 [==============================] - 8s 173us/sample - loss: 0.6424 - acc: 0.7997\n",
      "24419/24419 [==============================] - 2s 81us/sample - loss: 0.8883 - acc: 0.7283\n",
      "Epoch 1/10\n",
      "48838/48838 [==============================] - 9s 190us/sample - loss: 1.6926 - acc: 0.3967\n",
      "Epoch 2/10\n",
      "48838/48838 [==============================] - 9s 183us/sample - loss: 1.2903 - acc: 0.5727s - loss: 1.3164  - ETA: 1s - loss: \n",
      "Epoch 3/10\n",
      "48838/48838 [==============================] - 8s 170us/sample - loss: 1.0769 - acc: 0.6600\n",
      "Epoch 4/10\n",
      "48838/48838 [==============================] - 8s 166us/sample - loss: 0.9511 - acc: 0.7011s - loss: 0.9502 - acc: 0.701\n",
      "Epoch 5/10\n",
      "48838/48838 [==============================] - 9s 176us/sample - loss: 0.8752 - acc: 0.7270s - loss: 0 - ETA: 1s - loss: 0.8785 - acc:  - ETA: 1s - loss:\n",
      "Epoch 6/10\n",
      "48838/48838 [==============================] - 9s 185us/sample - loss: 0.8032 - acc: 0.7489\n",
      "Epoch 7/10\n",
      "48838/48838 [==============================] - 8s 166us/sample - loss: 0.7465 - acc: 0.7669\n",
      "Epoch 8/10\n",
      "48838/48838 [==============================] - 9s 184us/sample - loss: 0.6955 - acc: 0.7833s - loss: 0.6949 - acc:\n",
      "Epoch 9/10\n",
      "48838/48838 [==============================] - 9s 191us/sample - loss: 0.6646 - acc: 0.7927\n",
      "Epoch 10/10\n",
      "48838/48838 [==============================] - 9s 175us/sample - loss: 0.6325 - acc: 0.8023\n",
      "24419/24419 [==============================] - 2s 77us/sample - loss: 0.8815 - acc: 0.7308\n",
      "WARNING:tensorflow:From C:\\Users\\SARAT\\Anaconda3\\lib\\site-packages\\tensorflow\\python\\ops\\init_ops.py:1251: calling VarianceScaling.__init__ (from tensorflow.python.ops.init_ops) with dtype is deprecated and will be removed in a future version.\n",
      "Instructions for updating:\n",
      "Call initializer instance with the dtype argument instead of passing it to the constructor\n",
      "Epoch 1/10\n",
      "48838/48838 [==============================] - 13s 271us/sample - loss: 1.4640 - acc: 0.5186\n",
      "Epoch 2/10\n"
     ]
    },
    {
     "name": "stdout",
     "output_type": "stream",
     "text": [
      "48838/48838 [==============================] - 13s 275us/sample - loss: 1.1223 - acc: 0.6465: 5s - loss: 1.143 -\n",
      "Epoch 3/10\n",
      "48838/48838 [==============================] - 13s 275us/sample - loss: 0.9937 - acc: 0.6908 - loss: 1.011\n",
      "Epoch 4/10\n",
      "48838/48838 [==============================] - 14s 295us/sample - loss: 0.9066 - acc: 0.7184\n",
      "Epoch 5/10\n",
      "48838/48838 [==============================] - ETA: 0s - loss: 0.8431 - acc: 0.739 - 13s 274us/sample - loss: 0.8432 - acc: 0.7392\n",
      "Epoch 6/10\n",
      "48838/48838 [==============================] - 14s 295us/sample - loss: 0.7846 - acc: 0.7570\n",
      "Epoch 7/10\n",
      "48838/48838 [==============================] - 13s 273us/sample - loss: 0.7470 - acc: 0.7688\n",
      "Epoch 8/10\n",
      "48838/48838 [==============================] - 14s 294us/sample - loss: 0.7188 - acc: 0.7772\n",
      "Epoch 9/10\n",
      "48838/48838 [==============================] - 13s 258us/sample - loss: 0.6940 - acc: 0.7844\n",
      "Epoch 10/10\n",
      "48838/48838 [==============================] - 13s 273us/sample - loss: 0.6638 - acc: 0.7944\n",
      "24419/24419 [==============================] - 2s 81us/sample - loss: 0.8832 - acc: 0.7477\n",
      "Epoch 1/10\n",
      "48838/48838 [==============================] - 13s 270us/sample - loss: 1.4380 - acc: 0.5291\n",
      "Epoch 2/10\n",
      "48838/48838 [==============================] - 13s 274us/sample - loss: 1.0847 - acc: 0.6576 - lo\n",
      "Epoch 3/10\n",
      "48838/48838 [==============================] - 12s 255us/sample - loss: 0.9626 - acc: 0.6990 -\n",
      "Epoch 4/10\n",
      "48838/48838 [==============================] - 13s 271us/sample - loss: 0.8894 - acc: 0.7236\n",
      "Epoch 5/10\n",
      "48838/48838 [==============================] - 13s 268us/sample - loss: 0.8314 - acc: 0.7428ETA: 2s - loss:  - ETA: 1s -\n",
      "Epoch 6/10\n",
      "48838/48838 [==============================] - 13s 256us/sample - loss: 0.7886 - acc: 0.7559\n",
      "Epoch 7/10\n",
      "48838/48838 [==============================] - 13s 264us/sample - loss: 0.7555 - acc: 0.7658\n",
      "Epoch 8/10\n",
      "48838/48838 [==============================] - 12s 248us/sample - loss: 0.7261 - acc: 0.7738\n",
      "Epoch 9/10\n",
      "48838/48838 [==============================] - 13s 268us/sample - loss: 0.7041 - acc: 0.7800\n",
      "Epoch 10/10\n",
      "48838/48838 [==============================] - 12s 251us/sample - loss: 0.6857 - acc: 0.7864\n",
      "24419/24419 [==============================] - 2s 81us/sample - loss: 0.9264 - acc: 0.7309\n",
      "Epoch 1/10\n",
      "48838/48838 [==============================] - 14s 283us/sample - loss: 1.4365 - acc: 0.5242\n",
      "Epoch 2/10\n",
      "48838/48838 [==============================] - 13s 259us/sample - loss: 1.0755 - acc: 0.6631\n",
      "Epoch 3/10\n",
      "48838/48838 [==============================] - 13s 272us/sample - loss: 0.9315 - acc: 0.7095\n",
      "Epoch 4/10\n",
      "48838/48838 [==============================] - 12s 254us/sample - loss: 0.8564 - acc: 0.7356 - loss: 0.8582 - acc:  - ETA: 0s - loss: 0.8571 - acc:\n",
      "Epoch 5/10\n",
      "48838/48838 [==============================] - 12s 254us/sample - loss: 0.7959 - acc: 0.7529\n",
      "Epoch 6/10\n",
      "48838/48838 [==============================] - 13s 265us/sample - loss: 0.7599 - acc: 0.7660\n",
      "Epoch 7/10\n",
      "48838/48838 [==============================] - 12s 251us/sample - loss: 0.7150 - acc: 0.7768\n",
      "Epoch 8/10\n",
      "48838/48838 [==============================] - 13s 266us/sample - loss: 0.6844 - acc: 0.7885 - loss: 0.6842 - acc: 0.\n",
      "Epoch 9/10\n",
      "48838/48838 [==============================] - 12s 250us/sample - loss: 0.6554 - acc: 0.7965\n",
      "Epoch 10/10\n",
      "48838/48838 [==============================] - 13s 264us/sample - loss: 0.6328 - acc: 0.8025\n",
      "24419/24419 [==============================] - 2s 83us/sample - loss: 1.8107 - acc: 0.5456\n",
      "Epoch 1/10\n",
      "48838/48838 [==============================] - 9s 178us/sample - loss: 1.3282 - acc: 0.5690s - loss: 1.3 - ETA: 0s - loss: 1.3516 -\n",
      "Epoch 2/10\n",
      "48838/48838 [==============================] - 8s 162us/sample - loss: 0.9738 - acc: 0.6979\n",
      "Epoch 3/10\n",
      "48838/48838 [==============================] - 8s 166us/sample - loss: 0.8560 - acc: 0.7351\n",
      "Epoch 4/10\n",
      "48838/48838 [==============================] - 8s 169us/sample - loss: 0.7870 - acc: 0.7561s - loss: 0.7884\n",
      "Epoch 5/10\n",
      "48838/48838 [==============================] - 8s 161us/sample - loss: 0.7363 - acc: 0.7713\n",
      "Epoch 6/10\n",
      "48838/48838 [==============================] - 8s 161us/sample - loss: 0.6900 - acc: 0.7863\n",
      "Epoch 7/10\n",
      "48838/48838 [==============================] - 8s 171us/sample - loss: 0.6434 - acc: 0.8016\n",
      "Epoch 8/10\n",
      "48838/48838 [==============================] - 8s 165us/sample - loss: 0.6152 - acc: 0.8099\n",
      "Epoch 9/10\n",
      "48838/48838 [==============================] - 8s 161us/sample - loss: 0.5888 - acc: 0.8182\n",
      "Epoch 10/10\n",
      "48838/48838 [==============================] - 8s 162us/sample - loss: 0.5643 - acc: 0.8239\n",
      "24419/24419 [==============================] - 2s 80us/sample - loss: 0.8122 - acc: 0.7609\n",
      "Epoch 1/10\n",
      "48838/48838 [==============================] - 9s 180us/sample - loss: 1.3707 - acc: 0.5500\n",
      "Epoch 2/10\n",
      "48838/48838 [==============================] - 8s 168us/sample - loss: 0.9676 - acc: 0.6967\n",
      "Epoch 3/10\n",
      "48838/48838 [==============================] - 8s 173us/sample - loss: 0.8530 - acc: 0.7363\n",
      "Epoch 4/10\n",
      "48838/48838 [==============================] - 9s 180us/sample - loss: 0.7818 - acc: 0.7559s - loss:\n",
      "Epoch 5/10\n",
      "48838/48838 [==============================] - 8s 160us/sample - loss: 0.7243 - acc: 0.7762\n",
      "Epoch 6/10\n",
      "48838/48838 [==============================] - 8s 161us/sample - loss: 0.6782 - acc: 0.7899\n",
      "Epoch 7/10\n",
      "48838/48838 [==============================] - 8s 163us/sample - loss: 0.6378 - acc: 0.8024\n",
      "Epoch 8/10\n",
      "48838/48838 [==============================] - 9s 175us/sample - loss: 0.6146 - acc: 0.8077\n",
      "Epoch 9/10\n",
      "48838/48838 [==============================] - 8s 167us/sample - loss: 0.5847 - acc: 0.8184\n",
      "Epoch 10/10\n",
      "48838/48838 [==============================] - 9s 178us/sample - loss: 0.5615 - acc: 0.8242\n",
      "24419/24419 [==============================] - 2s 79us/sample - loss: 1.0410 - acc: 0.6926\n",
      "Epoch 1/10\n",
      "48838/48838 [==============================] - 8s 170us/sample - loss: 1.3775 - acc: 0.5511\n",
      "Epoch 2/10\n",
      "48838/48838 [==============================] - 8s 172us/sample - loss: 0.9844 - acc: 0.6972\n",
      "Epoch 3/10\n",
      "48838/48838 [==============================] - 8s 169us/sample - loss: 0.8652 - acc: 0.7313\n",
      "Epoch 4/10\n",
      "48838/48838 [==============================] - 9s 178us/sample - loss: 0.7845 - acc: 0.7577\n",
      "Epoch 5/10\n",
      "48838/48838 [==============================] - 8s 166us/sample - loss: 0.7271 - acc: 0.7764\n",
      "Epoch 6/10\n",
      "48838/48838 [==============================] - 8s 169us/sample - loss: 0.6808 - acc: 0.7898\n",
      "Epoch 7/10\n",
      "48838/48838 [==============================] - 8s 161us/sample - loss: 0.6448 - acc: 0.7996\n",
      "Epoch 8/10\n",
      "48838/48838 [==============================] - 9s 185us/sample - loss: 0.6036 - acc: 0.8131\n",
      "Epoch 9/10\n",
      "48838/48838 [==============================] - 8s 160us/sample - loss: 0.5793 - acc: 0.8199\n",
      "Epoch 10/10\n",
      "48838/48838 [==============================] - 8s 164us/sample - loss: 0.5618 - acc: 0.8250\n",
      "24419/24419 [==============================] - 2s 82us/sample - loss: 0.7911 - acc: 0.7769\n",
      "Epoch 1/10\n",
      "73257/73257 [==============================] - 13s 171us/sample - loss: 1.2324 - acc: 0.6033\n",
      "Epoch 2/10\n",
      "73257/73257 [==============================] - 13s 175us/sample - loss: 0.8757 - acc: 0.7293\n",
      "Epoch 3/10\n",
      "73257/73257 [==============================] - 14s 193us/sample - loss: 0.7668 - acc: 0.7629\n",
      "Epoch 4/10\n",
      "73257/73257 [==============================] - 12s 171us/sample - loss: 0.7016 - acc: 0.7847\n",
      "Epoch 5/10\n",
      "73257/73257 [==============================] - 13s 174us/sample - loss: 0.6468 - acc: 0.8003\n",
      "Epoch 6/10\n",
      "73257/73257 [==============================] - 12s 163us/sample - loss: 0.6136 - acc: 0.8107\n",
      "Epoch 7/10\n",
      "73257/73257 [==============================] - 12s 171us/sample - loss: 0.5779 - acc: 0.8201 - loss: 0.5767 - - ETA: 1s -\n",
      "Epoch 8/10\n",
      "73257/73257 [==============================] - 12s 170us/sample - loss: 0.5525 - acc: 0.8286\n",
      "Epoch 9/10\n",
      "73257/73257 [==============================] - 12s 167us/sample - loss: 0.5356 - acc: 0.8330\n",
      "Epoch 10/10\n",
      "73257/73257 [==============================] - 13s 180us/sample - loss: 0.5207 - acc: 0.8371\n",
      "Wall time: 25min 36s\n"
     ]
    }
   ],
   "source": [
    "%%time\n",
    "grid_result = grid.fit(trainx, trainy)"
   ]
  },
  {
   "cell_type": "code",
   "execution_count": 29,
   "metadata": {},
   "outputs": [
    {
     "name": "stdout",
     "output_type": "stream",
     "text": [
      "Best Accuracy for 0.7435 using {'batch_size': 102, 'epochs': 10, 'init': 'glorot_uniform', 'learn_rate': 0.002, 'momentum': 0.6, 'optimizer': 'Adam'}\n",
      "mean=0.6605, std=0.01923 using {'batch_size': 102, 'epochs': 10, 'init': 'uniform', 'learn_rate': 0.002, 'momentum': 0.6, 'optimizer': 'RMSprop'}\n",
      "mean=0.7344, std=0.006945 using {'batch_size': 102, 'epochs': 10, 'init': 'uniform', 'learn_rate': 0.002, 'momentum': 0.6, 'optimizer': 'Adam'}\n",
      "mean=0.6747, std=0.09158 using {'batch_size': 102, 'epochs': 10, 'init': 'glorot_uniform', 'learn_rate': 0.002, 'momentum': 0.6, 'optimizer': 'RMSprop'}\n",
      "mean=0.7435, std=0.03658 using {'batch_size': 102, 'epochs': 10, 'init': 'glorot_uniform', 'learn_rate': 0.002, 'momentum': 0.6, 'optimizer': 'Adam'}\n"
     ]
    }
   ],
   "source": [
    "# print results\n",
    "print(f'Best Accuracy for {grid_result.best_score_:.4} using {grid_result.best_params_}')\n",
    "means = grid_result.cv_results_['mean_test_score']\n",
    "stds = grid_result.cv_results_['std_test_score']\n",
    "params = grid_result.cv_results_['params']\n",
    "for mean, stdev, param in zip(means, stds, params):\n",
    "    print(f'mean={mean:.4}, std={stdev:.4} using {param}')"
   ]
  },
  {
   "cell_type": "code",
   "execution_count": 30,
   "metadata": {},
   "outputs": [
    {
     "name": "stdout",
     "output_type": "stream",
     "text": [
      "Wall time: 37.7 ms\n"
     ]
    }
   ],
   "source": [
    "\n",
    "%%time\n",
    "# fix random seed for reproducibility (this might work or might not work \n",
    "# depending on each library's implenentation)\n",
    "seed = 7\n",
    "import numpy as np\n",
    "np.random.seed(seed)\n",
    "input_shape = trainx.shape[1]\n",
    "batch1=int(input_shape/25)\n",
    "batch2=int(input_shape/15)\n",
    "batch3=int(input_shape/10)\n",
    "# create the sklearn model for the network\n",
    "model_init_batch_epoch_CV = tf.keras.wrappers.scikit_learn.KerasClassifier(build_fn=create_model, verbose=1)\n",
    "\n",
    "# we choose the initializers that came at the top in our previous cross-validation!!\n",
    "#init_mode = init_mode = ['uniform', 'lecun_uniform', 'normal', 'zero','glorot_normal', 'glorot_uniform', 'he_normal', 'he_uniform']\n",
    "init_mode = ['uniform', 'glorot_uniform', 'he_uniform']\n",
    "#batches = [batch1,batch2,batch3]\n",
    "batches = [batch1]\n",
    "epochs = [20]\n",
    "#optimizer = ['SGD', 'RMSprop', 'Adagrad', 'Adadelta', 'Adam', 'Adamax', 'Nadam'] \n",
    "optimizer = ['Adam'] \n",
    "learn_rate = [0.002] # Tuning Learning rate.\n",
    "momentum = [0.6] # Tunning momentum\n",
    "# grid search for initializer, batch size and number of epochs\n",
    "param_grid = dict(epochs=epochs, batch_size=batches, init=init_mode,optimizer=optimizer,learn_rate=learn_rate, momentum=momentum)\n",
    "grid = GridSearchCV(estimator=model_init_batch_epoch_CV, \n",
    "                    param_grid=param_grid,\n",
    "                    cv=3)\n"
   ]
  },
  {
   "cell_type": "markdown",
   "metadata": {},
   "source": [
    "# Let us see the result by changing batchsize and no of epochs with three different intialization mode and with same learning rate 0.002 and momentum 0.6"
   ]
  },
  {
   "cell_type": "code",
   "execution_count": 31,
   "metadata": {},
   "outputs": [
    {
     "name": "stdout",
     "output_type": "stream",
     "text": [
      "Epoch 1/20\n",
      "48838/48838 [==============================] - 15s 314us/sample - loss: 1.7294 - acc: 0.3859\n",
      "Epoch 2/20\n",
      "48838/48838 [==============================] - 16s 321us/sample - loss: 1.3035 - acc: 0.5667\n",
      "Epoch 3/20\n",
      "48838/48838 [==============================] - 17s 351us/sample - loss: 1.1023 - acc: 0.6470 - loss: 1.1031 - acc: 0\n",
      "Epoch 4/20\n",
      "48838/48838 [==============================] - 17s 357us/sample - loss: 0.9847 - acc: 0.6886\n",
      "Epoch 5/20\n",
      "48838/48838 [==============================] - 17s 349us/sample - loss: 0.9258 - acc: 0.7062\n",
      "Epoch 6/20\n",
      "48838/48838 [==============================] - 16s 323us/sample - loss: 0.8738 - acc: 0.7229\n",
      "Epoch 7/20\n",
      "48838/48838 [==============================] - 16s 335us/sample - loss: 0.8279 - acc: 0.7370\n",
      "Epoch 8/20\n",
      "48838/48838 [==============================] - 15s 310us/sample - loss: 0.7856 - acc: 0.7508\n",
      "Epoch 9/20\n",
      "48838/48838 [==============================] - 16s 328us/sample - loss: 0.7566 - acc: 0.7602 - loss: 0.7567 - acc: 0.7\n",
      "Epoch 10/20\n",
      "48838/48838 [==============================] - 16s 322us/sample - loss: 0.7303 - acc: 0.7693\n",
      "Epoch 11/20\n",
      "48838/48838 [==============================] - 16s 331us/sample - loss: 0.7115 - acc: 0.7750\n",
      "Epoch 12/20\n",
      "48838/48838 [==============================] - 16s 323us/sample - loss: 0.6982 - acc: 0.7805\n",
      "Epoch 13/20\n",
      "48838/48838 [==============================] - 16s 330us/sample - loss: 0.6830 - acc: 0.7839\n",
      "Epoch 14/20\n",
      "48838/48838 [==============================] - 15s 311us/sample - loss: 0.6723 - acc: 0.7894\n",
      "Epoch 15/20\n",
      "48838/48838 [==============================] - 16s 338us/sample - loss: 0.6588 - acc: 0.7915\n",
      "Epoch 16/20\n",
      "48838/48838 [==============================] - 15s 315us/sample - loss: 0.6504 - acc: 0.7943\n",
      "Epoch 17/20\n",
      "48838/48838 [==============================] - 17s 338us/sample - loss: 0.6414 - acc: 0.7954\n",
      "Epoch 18/20\n",
      "48838/48838 [==============================] - 17s 343us/sample - loss: 0.6329 - acc: 0.7996 - loss: 0.63 - ETA: 0s - loss: 0.6332 - acc\n",
      "Epoch 19/20\n",
      "48838/48838 [==============================] - 18s 362us/sample - loss: 0.6294 - acc: 0.7988\n",
      "Epoch 20/20\n",
      "48838/48838 [==============================] - 17s 339us/sample - loss: 0.6147 - acc: 0.8053\n",
      "24419/24419 [==============================] - 4s 162us/sample - loss: 0.8989 - acc: 0.7202\n",
      "Epoch 1/20\n",
      "48838/48838 [==============================] - 16s 337us/sample - loss: 1.7218 - acc: 0.3833\n",
      "Epoch 2/20\n",
      "48838/48838 [==============================] - 16s 336us/sample - loss: 1.3446 - acc: 0.5468\n",
      "Epoch 3/20\n",
      "48838/48838 [==============================] - 17s 341us/sample - loss: 1.1377 - acc: 0.6324\n",
      "Epoch 4/20\n",
      "48838/48838 [==============================] - 16s 325us/sample - loss: 1.0145 - acc: 0.6772\n",
      "Epoch 5/20\n",
      "48838/48838 [==============================] - 17s 344us/sample - loss: 0.9491 - acc: 0.6984\n",
      "Epoch 6/20\n",
      "48838/48838 [==============================] - 16s 338us/sample - loss: 0.8966 - acc: 0.7139\n",
      "Epoch 7/20\n",
      "48838/48838 [==============================] - 16s 332us/sample - loss: 0.8463 - acc: 0.7308\n",
      "Epoch 8/20\n",
      "48838/48838 [==============================] - 16s 319us/sample - loss: 0.8037 - acc: 0.7469\n",
      "Epoch 9/20\n",
      "48838/48838 [==============================] - 18s 373us/sample - loss: 0.7591 - acc: 0.7600\n",
      "Epoch 10/20\n",
      "48838/48838 [==============================] - 17s 346us/sample - loss: 0.7302 - acc: 0.7712 \n",
      "Epoch 11/20\n",
      "48838/48838 [==============================] - 17s 348us/sample - loss: 0.6997 - acc: 0.7785\n",
      "Epoch 12/20\n",
      "48838/48838 [==============================] - 16s 337us/sample - loss: 0.6822 - acc: 0.7843\n",
      "Epoch 13/20\n",
      "48838/48838 [==============================] - 16s 324us/sample - loss: 0.6659 - acc: 0.7901\n",
      "Epoch 14/20\n",
      "48838/48838 [==============================] - 16s 335us/sample - loss: 0.6514 - acc: 0.7950 - l\n",
      "Epoch 15/20\n",
      "48838/48838 [==============================] - 16s 333us/sample - loss: 0.6360 - acc: 0.7972\n",
      "Epoch 16/20\n",
      "48838/48838 [==============================] - 17s 342us/sample - loss: 0.6243 - acc: 0.8032\n",
      "Epoch 17/20\n",
      "48838/48838 [==============================] - 16s 323us/sample - loss: 0.6166 - acc: 0.8035\n",
      "Epoch 18/20\n",
      "48838/48838 [==============================] - 16s 337us/sample - loss: 0.6065 - acc: 0.8072\n",
      "Epoch 19/20\n",
      "48838/48838 [==============================] - 16s 325us/sample - loss: 0.6013 - acc: 0.8096\n",
      "Epoch 20/20\n",
      "48838/48838 [==============================] - 17s 342us/sample - loss: 0.5917 - acc: 0.8103\n",
      "24419/24419 [==============================] - 3s 125us/sample - loss: 0.8660 - acc: 0.8063\n",
      "Epoch 1/20\n",
      "48838/48838 [==============================] - 18s 367us/sample - loss: 1.7069 - acc: 0.3983\n",
      "Epoch 2/20\n",
      "48838/48838 [==============================] - 16s 325us/sample - loss: 1.2628 - acc: 0.5892\n",
      "Epoch 3/20\n",
      "48838/48838 [==============================] - 17s 339us/sample - loss: 1.0932 - acc: 0.6536\n",
      "Epoch 4/20\n",
      "48838/48838 [==============================] - 16s 327us/sample - loss: 0.9927 - acc: 0.6864\n",
      "Epoch 5/20\n",
      "48838/48838 [==============================] - 17s 341us/sample - loss: 0.9137 - acc: 0.7125\n",
      "Epoch 6/20\n",
      "48838/48838 [==============================] - 17s 350us/sample - loss: 0.8573 - acc: 0.7311\n",
      "Epoch 7/20\n",
      "48838/48838 [==============================] - 17s 349us/sample - loss: 0.8195 - acc: 0.7419 - los\n",
      "Epoch 8/20\n",
      "48838/48838 [==============================] - 17s 347us/sample - loss: 0.7847 - acc: 0.7523\n",
      "Epoch 9/20\n",
      "48838/48838 [==============================] - 16s 336us/sample - loss: 0.7626 - acc: 0.7579\n",
      "Epoch 10/20\n",
      "48838/48838 [==============================] - 17s 340us/sample - loss: 0.7391 - acc: 0.7682\n",
      "Epoch 11/20\n",
      "48838/48838 [==============================] - 16s 331us/sample - loss: 0.7184 - acc: 0.7735\n",
      "Epoch 12/20\n",
      "48838/48838 [==============================] - 17s 353us/sample - loss: 0.7009 - acc: 0.7803\n",
      "Epoch 13/20\n",
      "48838/48838 [==============================] - 18s 360us/sample - loss: 0.6903 - acc: 0.7804\n",
      "Epoch 14/20\n",
      "48838/48838 [==============================] - 18s 359us/sample - loss: 0.6766 - acc: 0.7853\n",
      "Epoch 15/20\n",
      "48838/48838 [==============================] - 17s 351us/sample - loss: 0.6685 - acc: 0.7884\n",
      "Epoch 16/20\n",
      "48838/48838 [==============================] - 16s 326us/sample - loss: 0.6602 - acc: 0.7903\n",
      "Epoch 17/20\n",
      "48838/48838 [==============================] - 17s 338us/sample - loss: 0.6532 - acc: 0.7921\n",
      "Epoch 18/20\n",
      "48838/48838 [==============================] - 16s 332us/sample - loss: 0.6409 - acc: 0.7965\n",
      "Epoch 19/20\n",
      "48838/48838 [==============================] - 17s 341us/sample - loss: 0.6396 - acc: 0.7958\n",
      "Epoch 20/20\n",
      "48838/48838 [==============================] - 16s 324us/sample - loss: 0.6327 - acc: 0.7979\n",
      "24419/24419 [==============================] - 3s 129us/sample - loss: 0.9011 - acc: 0.7230\n",
      "Epoch 1/20\n",
      "48838/48838 [==============================] - 16s 334us/sample - loss: 1.4365 - acc: 0.5246\n",
      "Epoch 2/20\n",
      "48838/48838 [==============================] - 17s 345us/sample - loss: 1.0821 - acc: 0.6572\n",
      "Epoch 3/20\n",
      "48838/48838 [==============================] - 16s 325us/sample - loss: 0.9838 - acc: 0.6924\n",
      "Epoch 4/20\n",
      "48838/48838 [==============================] - 18s 376us/sample - loss: 0.9126 - acc: 0.7128\n",
      "Epoch 5/20\n",
      "48838/48838 [==============================] - 18s 372us/sample - loss: 0.8506 - acc: 0.7329\n",
      "Epoch 6/20\n",
      "48838/48838 [==============================] - ETA: 0s - loss: 0.8082 - acc: 0.745 - 18s 368us/sample - loss: 0.8082 - acc: 0.7453\n",
      "Epoch 7/20\n",
      "48838/48838 [==============================] - 18s 369us/sample - loss: 0.7713 - acc: 0.7571 - los\n",
      "Epoch 8/20\n",
      "48838/48838 [==============================] - 16s 338us/sample - loss: 0.7456 - acc: 0.7664\n",
      "Epoch 9/20\n",
      "48838/48838 [==============================] - 17s 348us/sample - loss: 0.7230 - acc: 0.7720\n",
      "Epoch 10/20\n",
      "48838/48838 [==============================] - 16s 332us/sample - loss: 0.7013 - acc: 0.7785\n",
      "Epoch 11/20\n",
      "48838/48838 [==============================] - 17s 346us/sample - loss: 0.6810 - acc: 0.7852s - ETA: 7s - loss: 0.6728 - acc: 0.78 - ETA: 7s - loss: 0\n",
      "Epoch 12/20\n",
      "48838/48838 [==============================] - 16s 335us/sample - loss: 0.6588 - acc: 0.7909\n",
      "Epoch 13/20\n",
      "48838/48838 [==============================] - 17s 340us/sample - loss: 0.6438 - acc: 0.7962\n",
      "Epoch 14/20\n"
     ]
    },
    {
     "name": "stdout",
     "output_type": "stream",
     "text": [
      "48838/48838 [==============================] - 15s 308us/sample - loss: 0.6271 - acc: 0.8008\n",
      "Epoch 15/20\n",
      "48838/48838 [==============================] - 16s 324us/sample - loss: 0.6177 - acc: 0.8050\n",
      "Epoch 16/20\n",
      "48838/48838 [==============================] - 16s 322us/sample - loss: 0.6046 - acc: 0.8077\n",
      "Epoch 17/20\n",
      "48838/48838 [==============================] - 16s 331us/sample - loss: 0.5995 - acc: 0.8109 - l\n",
      "Epoch 18/20\n",
      "48838/48838 [==============================] - 16s 318us/sample - loss: 0.5900 - acc: 0.8116\n",
      "Epoch 19/20\n",
      "48838/48838 [==============================] - 16s 327us/sample - loss: 0.5770 - acc: 0.8160\n",
      "Epoch 20/20\n",
      "48838/48838 [==============================] - 16s 329us/sample - loss: 0.5745 - acc: 0.8160\n",
      "24419/24419 [==============================] - 3s 129us/sample - loss: 0.8209 - acc: 0.7555\n",
      "Epoch 1/20\n",
      "48838/48838 [==============================] - 16s 331us/sample - loss: 1.4101 - acc: 0.5328\n",
      "Epoch 2/20\n",
      "48838/48838 [==============================] - 18s 365us/sample - loss: 1.0359 - acc: 0.6738\n",
      "Epoch 3/20\n",
      "48838/48838 [==============================] - 16s 330us/sample - loss: 0.9202 - acc: 0.7134\n",
      "Epoch 4/20\n",
      "48838/48838 [==============================] - 16s 333us/sample - loss: 0.8465 - acc: 0.7364\n",
      "Epoch 5/20\n",
      "48838/48838 [==============================] - 17s 339us/sample - loss: 0.8073 - acc: 0.7459\n",
      "Epoch 6/20\n",
      "48838/48838 [==============================] - 16s 333us/sample - loss: 0.7664 - acc: 0.7610\n",
      "Epoch 7/20\n",
      "48838/48838 [==============================] - 16s 336us/sample - loss: 0.7360 - acc: 0.7689\n",
      "Epoch 8/20\n",
      "48838/48838 [==============================] - 16s 331us/sample - loss: 0.7111 - acc: 0.7761\n",
      "Epoch 9/20\n",
      "48838/48838 [==============================] - 17s 339us/sample - loss: 0.6894 - acc: 0.7848\n",
      "Epoch 10/20\n",
      "48838/48838 [==============================] - 16s 333us/sample - loss: 0.6710 - acc: 0.7890\n",
      "Epoch 11/20\n",
      "48838/48838 [==============================] - 17s 339us/sample - loss: 0.6530 - acc: 0.7955\n",
      "Epoch 12/20\n",
      "48838/48838 [==============================] - 15s 317us/sample - loss: 0.6398 - acc: 0.7992\n",
      "Epoch 13/20\n",
      "48838/48838 [==============================] - 16s 333us/sample - loss: 0.6275 - acc: 0.8025\n",
      "Epoch 14/20\n",
      "48838/48838 [==============================] - 16s 329us/sample - loss: 0.6149 - acc: 0.8055\n",
      "Epoch 15/20\n",
      "48838/48838 [==============================] - 17s 340us/sample - loss: 0.5995 - acc: 0.8117\n",
      "Epoch 16/20\n",
      "48838/48838 [==============================] - 16s 328us/sample - loss: 0.5947 - acc: 0.8114 - loss: 0.5953 - acc: \n",
      "Epoch 17/20\n",
      "48838/48838 [==============================] - 16s 331us/sample - loss: 0.5869 - acc: 0.8143\n",
      "Epoch 18/20\n",
      "48838/48838 [==============================] - 16s 330us/sample - loss: 0.5766 - acc: 0.8177\n",
      "Epoch 19/20\n",
      "48838/48838 [==============================] - 16s 330us/sample - loss: 0.5626 - acc: 0.8228\n",
      "Epoch 20/20\n",
      "48838/48838 [==============================] - 17s 346us/sample - loss: 0.5595 - acc: 0.8213\n",
      "24419/24419 [==============================] - 3s 133us/sample - loss: 0.7813 - acc: 0.7775\n",
      "Epoch 1/20\n",
      "48838/48838 [==============================] - 17s 338us/sample - loss: 1.4137 - acc: 0.5324\n",
      "Epoch 2/20\n",
      "48838/48838 [==============================] - 17s 339us/sample - loss: 1.0584 - acc: 0.6669\n",
      "Epoch 3/20\n",
      "48838/48838 [==============================] - 16s 335us/sample - loss: 0.9575 - acc: 0.6998\n",
      "Epoch 4/20\n",
      "48838/48838 [==============================] - 17s 341us/sample - loss: 0.8840 - acc: 0.7228\n",
      "Epoch 5/20\n",
      "48838/48838 [==============================] - 17s 345us/sample - loss: 0.8174 - acc: 0.7427\n",
      "Epoch 6/20\n",
      "48838/48838 [==============================] - 17s 343us/sample - loss: 0.7808 - acc: 0.7557\n",
      "Epoch 7/20\n",
      "48838/48838 [==============================] - 17s 352us/sample - loss: 0.7529 - acc: 0.7628\n",
      "Epoch 8/20\n",
      "48838/48838 [==============================] - 16s 328us/sample - loss: 0.7226 - acc: 0.7732\n",
      "Epoch 9/20\n",
      "48838/48838 [==============================] - 17s 342us/sample - loss: 0.6963 - acc: 0.7790\n",
      "Epoch 10/20\n",
      "48838/48838 [==============================] - 16s 329us/sample - loss: 0.6745 - acc: 0.7871\n",
      "Epoch 11/20\n",
      "48838/48838 [==============================] - 17s 354us/sample - loss: 0.6679 - acc: 0.7891\n",
      "Epoch 12/20\n",
      "48838/48838 [==============================] - 17s 341us/sample - loss: 0.6494 - acc: 0.7945\n",
      "Epoch 13/20\n",
      "48838/48838 [==============================] - 17s 342us/sample - loss: 0.6399 - acc: 0.7970\n",
      "Epoch 14/20\n",
      "48838/48838 [==============================] - 17s 345us/sample - loss: 0.6227 - acc: 0.8017\n",
      "Epoch 15/20\n",
      "48838/48838 [==============================] - 16s 326us/sample - loss: 0.6132 - acc: 0.8070\n",
      "Epoch 16/20\n",
      "48838/48838 [==============================] - 17s 341us/sample - loss: 0.6025 - acc: 0.8080 - loss: 0.6028 - acc:\n",
      "Epoch 17/20\n",
      "48838/48838 [==============================] - 16s 329us/sample - loss: 0.5953 - acc: 0.8106\n",
      "Epoch 18/20\n",
      "48838/48838 [==============================] - 17s 357us/sample - loss: 0.5833 - acc: 0.8155\n",
      "Epoch 19/20\n",
      "48838/48838 [==============================] - 16s 329us/sample - loss: 0.5807 - acc: 0.8147\n",
      "Epoch 20/20\n",
      "48838/48838 [==============================] - 17s 344us/sample - loss: 0.5639 - acc: 0.8207\n",
      "24419/24419 [==============================] - 3s 140us/sample - loss: 0.9175 - acc: 0.7205\n",
      "Epoch 1/20\n",
      "48838/48838 [==============================] - 18s 366us/sample - loss: 1.3943 - acc: 0.5442\n",
      "Epoch 2/20\n",
      "48838/48838 [==============================] - 17s 344us/sample - loss: 1.0356 - acc: 0.6751\n",
      "Epoch 3/20\n",
      "48838/48838 [==============================] - 18s 362us/sample - loss: 0.9452 - acc: 0.7032 - loss: 0.94\n",
      "Epoch 4/20\n",
      "48838/48838 [==============================] - 18s 361us/sample - loss: 0.8754 - acc: 0.7241\n",
      "Epoch 5/20\n",
      "48838/48838 [==============================] - 17s 356us/sample - loss: 0.8171 - acc: 0.7432\n",
      "Epoch 6/20\n",
      "48838/48838 [==============================] - 17s 354us/sample - loss: 0.7829 - acc: 0.7540 - loss\n",
      "Epoch 7/20\n",
      "48838/48838 [==============================] - 17s 341us/sample - loss: 0.7532 - acc: 0.7619\n",
      "Epoch 8/20\n",
      "48838/48838 [==============================] - 17s 357us/sample - loss: 0.7228 - acc: 0.7716\n",
      "Epoch 9/20\n",
      "48838/48838 [==============================] - 17s 350us/sample - loss: 0.6974 - acc: 0.7802\n",
      "Epoch 10/20\n",
      "48838/48838 [==============================] - 17s 355us/sample - loss: 0.6828 - acc: 0.7833\n",
      "Epoch 11/20\n",
      "48838/48838 [==============================] - 17s 347us/sample - loss: 0.6676 - acc: 0.7889\n",
      "Epoch 12/20\n",
      "48838/48838 [==============================] - 18s 360us/sample - loss: 0.6503 - acc: 0.7944\n",
      "Epoch 13/20\n",
      "48838/48838 [==============================] - 17s 354us/sample - loss: 0.6325 - acc: 0.7995\n",
      "Epoch 14/20\n",
      "48838/48838 [==============================] - 17s 342us/sample - loss: 0.6237 - acc: 0.8014\n",
      "Epoch 15/20\n",
      "48838/48838 [==============================] - 19s 390us/sample - loss: 0.6044 - acc: 0.8076\n",
      "Epoch 16/20\n",
      "48838/48838 [==============================] - 17s 346us/sample - loss: 0.6029 - acc: 0.8085\n",
      "Epoch 17/20\n",
      "48838/48838 [==============================] - 18s 361us/sample - loss: 0.5900 - acc: 0.8115\n",
      "Epoch 18/20\n",
      "48838/48838 [==============================] - 17s 353us/sample - loss: 0.5798 - acc: 0.8151\n",
      "Epoch 19/20\n",
      "48838/48838 [==============================] - 17s 346us/sample - loss: 0.5676 - acc: 0.8191\n",
      "Epoch 20/20\n",
      "48838/48838 [==============================] - 18s 364us/sample - loss: 0.5604 - acc: 0.8203\n",
      "24419/24419 [==============================] - 4s 145us/sample - loss: 0.9024 - acc: 0.7348\n",
      "Epoch 1/20\n",
      "48838/48838 [==============================] - 19s 394us/sample - loss: 1.4274 - acc: 0.5276\n",
      "Epoch 2/20\n",
      "48838/48838 [==============================] - 18s 372us/sample - loss: 1.1049 - acc: 0.6514\n",
      "Epoch 3/20\n",
      "48838/48838 [==============================] - 17s 356us/sample - loss: 0.9736 - acc: 0.6946\n",
      "Epoch 4/20\n",
      "48838/48838 [==============================] - 17s 358us/sample - loss: 0.9033 - acc: 0.7154\n",
      "Epoch 5/20\n",
      "48838/48838 [==============================] - 17s 350us/sample - loss: 0.8489 - acc: 0.7344\n",
      "Epoch 6/20\n",
      "48838/48838 [==============================] - 18s 360us/sample - loss: 0.8136 - acc: 0.7446\n",
      "Epoch 7/20\n",
      "48838/48838 [==============================] - 18s 362us/sample - loss: 0.7892 - acc: 0.7508 - lo\n",
      "Epoch 8/20\n"
     ]
    },
    {
     "name": "stdout",
     "output_type": "stream",
     "text": [
      "48838/48838 [==============================] - 16s 338us/sample - loss: 0.7564 - acc: 0.7606\n",
      "Epoch 9/20\n",
      "48838/48838 [==============================] - 17s 342us/sample - loss: 0.7399 - acc: 0.7669\n",
      "Epoch 10/20\n",
      "48838/48838 [==============================] - 16s 330us/sample - loss: 0.7212 - acc: 0.7708\n",
      "Epoch 11/20\n",
      "48838/48838 [==============================] - 17s 347us/sample - loss: 0.7059 - acc: 0.7744\n",
      "Epoch 12/20\n",
      "48838/48838 [==============================] - 16s 325us/sample - loss: 0.6956 - acc: 0.7819\n",
      "Epoch 13/20\n",
      "48838/48838 [==============================] - 17s 346us/sample - loss: 0.6784 - acc: 0.7838\n",
      "Epoch 14/20\n",
      "48838/48838 [==============================] - 16s 331us/sample - loss: 0.6678 - acc: 0.7877\n",
      "Epoch 15/20\n",
      "48838/48838 [==============================] - 17s 345us/sample - loss: 0.6617 - acc: 0.7909\n",
      "Epoch 16/20\n",
      "48838/48838 [==============================] - 16s 334us/sample - loss: 0.6499 - acc: 0.7948\n",
      "Epoch 17/20\n",
      "48838/48838 [==============================] - 17s 356us/sample - loss: 0.6403 - acc: 0.7953\n",
      "Epoch 18/20\n",
      "48838/48838 [==============================] - 18s 363us/sample - loss: 0.6341 - acc: 0.7990\n",
      "Epoch 19/20\n",
      "48838/48838 [==============================] - 17s 346us/sample - loss: 0.6186 - acc: 0.8039\n",
      "Epoch 20/20\n",
      "48838/48838 [==============================] - 17s 345us/sample - loss: 0.6153 - acc: 0.8030  - ETA: 0s - loss: 0.6154 - ac\n",
      "24419/24419 [==============================] - 4s 166us/sample - loss: 0.8689 - acc: 0.7350\n",
      "Epoch 1/20\n",
      "48838/48838 [==============================] - 18s 374us/sample - loss: 1.4327 - acc: 0.5293\n",
      "Epoch 2/20\n",
      "48838/48838 [==============================] - 17s 355us/sample - loss: 1.0334 - acc: 0.6775\n",
      "Epoch 3/20\n",
      "48838/48838 [==============================] - 20s 406us/sample - loss: 0.9197 - acc: 0.7135\n",
      "Epoch 4/20\n",
      "48838/48838 [==============================] - 18s 369us/sample - loss: 0.8341 - acc: 0.7398\n",
      "Epoch 5/20\n",
      "48838/48838 [==============================] - 18s 376us/sample - loss: 0.7794 - acc: 0.7552\n",
      "Epoch 6/20\n",
      "48838/48838 [==============================] - 18s 364us/sample - loss: 0.7479 - acc: 0.7647\n",
      "Epoch 7/20\n",
      "48838/48838 [==============================] - 17s 346us/sample - loss: 0.7125 - acc: 0.7743\n",
      "Epoch 8/20\n",
      "48838/48838 [==============================] - 18s 366us/sample - loss: 0.6874 - acc: 0.7838\n",
      "Epoch 9/20\n",
      "48838/48838 [==============================] - 17s 353us/sample - loss: 0.6681 - acc: 0.7881\n",
      "Epoch 10/20\n",
      "48838/48838 [==============================] - 17s 358us/sample - loss: 0.6464 - acc: 0.7957\n",
      "Epoch 11/20\n",
      "48838/48838 [==============================] - 18s 364us/sample - loss: 0.6261 - acc: 0.8008\n",
      "Epoch 12/20\n",
      "48838/48838 [==============================] - 17s 355us/sample - loss: 0.6216 - acc: 0.8021\n",
      "Epoch 13/20\n",
      "48838/48838 [==============================] - 18s 376us/sample - loss: 0.5958 - acc: 0.8124\n",
      "Epoch 14/20\n",
      "48838/48838 [==============================] - 17s 352us/sample - loss: 0.5894 - acc: 0.8122\n",
      "Epoch 15/20\n",
      "48838/48838 [==============================] - 19s 381us/sample - loss: 0.5739 - acc: 0.8163\n",
      "Epoch 16/20\n",
      "48838/48838 [==============================] - 19s 385us/sample - loss: 0.5629 - acc: 0.8204\n",
      "Epoch 17/20\n",
      "48838/48838 [==============================] - 17s 350us/sample - loss: 0.5507 - acc: 0.8245\n",
      "Epoch 18/20\n",
      "48838/48838 [==============================] - 18s 368us/sample - loss: 0.5428 - acc: 0.8264\n",
      "Epoch 19/20\n",
      "48838/48838 [==============================] - 17s 354us/sample - loss: 0.5340 - acc: 0.8305\n",
      "Epoch 20/20\n",
      "48838/48838 [==============================] - 18s 362us/sample - loss: 0.5286 - acc: 0.8314\n",
      "24419/24419 [==============================] - 4s 177us/sample - loss: 0.7568 - acc: 0.7909\n",
      "Epoch 1/20\n",
      "73257/73257 [==============================] - 29s 391us/sample - loss: 1.3074 - acc: 0.5744\n",
      "Epoch 2/20\n",
      "73257/73257 [==============================] - ETA: 0s - loss: 0.9748 - acc: 0.695 - 27s 366us/sample - loss: 0.9748 - acc: 0.6959\n",
      "Epoch 3/20\n",
      "73257/73257 [==============================] - 29s 392us/sample - loss: 0.8768 - acc: 0.7263\n",
      "Epoch 4/20\n",
      "73257/73257 [==============================] - 27s 375us/sample - loss: 0.8109 - acc: 0.7472\n",
      "Epoch 5/20\n",
      "73257/73257 [==============================] - 27s 374us/sample - loss: 0.7658 - acc: 0.7579\n",
      "Epoch 6/20\n",
      "73257/73257 [==============================] - 27s 367us/sample - loss: 0.7326 - acc: 0.7722\n",
      "Epoch 7/20\n",
      "73257/73257 [==============================] - 28s 376us/sample - loss: 0.7041 - acc: 0.7806\n",
      "Epoch 8/20\n",
      "73257/73257 [==============================] - 27s 372us/sample - loss: 0.6766 - acc: 0.7886\n",
      "Epoch 9/20\n",
      "73257/73257 [==============================] - 26s 360us/sample - loss: 0.6514 - acc: 0.7966 - loss: 0.6512 - acc: 0.7\n",
      "Epoch 10/20\n",
      "73257/73257 [==============================] - 27s 372us/sample - loss: 0.6349 - acc: 0.8011\n",
      "Epoch 11/20\n",
      "73257/73257 [==============================] - 27s 368us/sample - loss: 0.6185 - acc: 0.8053\n",
      "Epoch 12/20\n",
      "73257/73257 [==============================] - 27s 371us/sample - loss: 0.6031 - acc: 0.8089\n",
      "Epoch 13/20\n",
      "73257/73257 [==============================] - 27s 369us/sample - loss: 0.5880 - acc: 0.8134\n",
      "Epoch 14/20\n",
      "73257/73257 [==============================] - 27s 374us/sample - loss: 0.5791 - acc: 0.8167\n",
      "Epoch 15/20\n",
      "73257/73257 [==============================] - 27s 371us/sample - loss: 0.5674 - acc: 0.8216\n",
      "Epoch 16/20\n",
      "73257/73257 [==============================] - 27s 371us/sample - loss: 0.5573 - acc: 0.8223\n",
      "Epoch 17/20\n",
      "73257/73257 [==============================] - 27s 375us/sample - loss: 0.5494 - acc: 0.8255\n",
      "Epoch 18/20\n",
      "73257/73257 [==============================] - 28s 377us/sample - loss: 0.5429 - acc: 0.8287\n",
      "Epoch 19/20\n",
      "73257/73257 [==============================] - 27s 371us/sample - loss: 0.5345 - acc: 0.8289\n",
      "Epoch 20/20\n",
      "73257/73257 [==============================] - 28s 378us/sample - loss: 0.5264 - acc: 0.8317\n",
      "Wall time: 1h 50s\n"
     ]
    }
   ],
   "source": [
    "%%time\n",
    "grid_result = grid.fit(trainx, trainy)"
   ]
  },
  {
   "cell_type": "code",
   "execution_count": 32,
   "metadata": {},
   "outputs": [
    {
     "name": "stdout",
     "output_type": "stream",
     "text": [
      "Best Accuracy for 0.7536 using {'batch_size': 40, 'epochs': 20, 'init': 'he_uniform', 'learn_rate': 0.002, 'momentum': 0.6, 'optimizer': 'Adam'}\n"
     ]
    }
   ],
   "source": [
    "print(f'Best Accuracy for {grid_result.best_score_:.4} using {grid_result.best_params_}')"
   ]
  },
  {
   "cell_type": "code",
   "execution_count": 33,
   "metadata": {},
   "outputs": [
    {
     "name": "stdout",
     "output_type": "stream",
     "text": [
      "mean=0.7498, std=0.03992 using {'batch_size': 40, 'epochs': 20, 'init': 'uniform', 'learn_rate': 0.002, 'momentum': 0.6, 'optimizer': 'Adam'}\n",
      "mean=0.7512, std=0.02348 using {'batch_size': 40, 'epochs': 20, 'init': 'glorot_uniform', 'learn_rate': 0.002, 'momentum': 0.6, 'optimizer': 'Adam'}\n",
      "mean=0.7536, std=0.02644 using {'batch_size': 40, 'epochs': 20, 'init': 'he_uniform', 'learn_rate': 0.002, 'momentum': 0.6, 'optimizer': 'Adam'}\n"
     ]
    }
   ],
   "source": [
    "# print results\n",
    "\n",
    "means = grid_result.cv_results_['mean_test_score']\n",
    "stds = grid_result.cv_results_['std_test_score']\n",
    "params = grid_result.cv_results_['params']\n",
    "for mean, stdev, param in zip(means, stds, params):\n",
    "    print(f'mean={mean:.4}, std={stdev:.4} using {param}')"
   ]
  },
  {
   "cell_type": "code",
   "execution_count": 34,
   "metadata": {},
   "outputs": [],
   "source": [
    "# To record the predictions "
   ]
  },
  {
   "cell_type": "code",
   "execution_count": 36,
   "metadata": {},
   "outputs": [
    {
     "name": "stdout",
     "output_type": "stream",
     "text": [
      "26032/26032 [==============================] - 12s 462us/sample\n"
     ]
    }
   ],
   "source": [
    "classes = grid_result.predict(testx)"
   ]
  },
  {
   "cell_type": "code",
   "execution_count": 37,
   "metadata": {},
   "outputs": [],
   "source": [
    "# clear the session"
   ]
  },
  {
   "cell_type": "code",
   "execution_count": null,
   "metadata": {},
   "outputs": [],
   "source": [
    "score = grid.evaluate(testx, testy, verbose=0)\n",
    "print('Test loss:', score[0])\n",
    "print('Test accuracy:', score[1])\n",
    "\n",
    "fig, ax = plt.subplots(1, 1, figsize=(10,6))\n",
    "ax.plot(np.sqrt(grid_result.history['acc']), 'r', label='train_acc')\n",
    "ax.plot(np.sqrt(grid_result.history['val_acc']), 'b' ,label='val_acc')\n",
    "ax.set_xlabel(r'Epoch', fontsize=20)\n",
    "ax.set_ylabel(r'Accuracy', fontsize=20)\n",
    "ax.legend()\n",
    "ax.tick_params(labelsize=20)\n",
    "\n",
    "fig, ax = plt.subplots(1, 1, figsize=(10,6))\n",
    "ax.plot(np.sqrt(grid_result.history['loss']), 'r', label='train')\n",
    "ax.plot(np.sqrt(grid_result.history['val_loss']), 'b' ,label='val')\n",
    "ax.set_xlabel(r'Epoch', fontsize=20)\n",
    "ax.set_ylabel(r'Loss', fontsize=20)\n",
    "ax.legend()\n",
    "ax.tick_params(labelsize=20)"
   ]
  },
  {
   "cell_type": "code",
   "execution_count": 38,
   "metadata": {
    "scrolled": true
   },
   "outputs": [],
   "source": [
    "tf.keras.backend.clear_session()"
   ]
  },
  {
   "cell_type": "code",
   "execution_count": null,
   "metadata": {},
   "outputs": [],
   "source": []
  },
  {
   "cell_type": "code",
   "execution_count": null,
   "metadata": {},
   "outputs": [],
   "source": []
  }
 ],
 "metadata": {
  "kernelspec": {
   "display_name": "Python 3",
   "language": "python",
   "name": "python3"
  },
  "language_info": {
   "codemirror_mode": {
    "name": "ipython",
    "version": 3
   },
   "file_extension": ".py",
   "mimetype": "text/x-python",
   "name": "python",
   "nbconvert_exporter": "python",
   "pygments_lexer": "ipython3",
   "version": "3.7.4"
  }
 },
 "nbformat": 4,
 "nbformat_minor": 2
}
