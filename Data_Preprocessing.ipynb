{
 "cells": [
  {
   "cell_type": "markdown",
   "metadata": {},
   "source": [
    "# Python Libraries"
   ]
  },
  {
   "cell_type": "code",
   "execution_count": 1,
   "metadata": {
    "collapsed": true
   },
   "outputs": [],
   "source": [
    "import matplotlib.pyplot as plt\n",
    "import numpy as np\n",
    "import pandas as pd\n",
    "import scipy as sp"
   ]
  },
  {
   "cell_type": "markdown",
   "metadata": {},
   "source": [
    "# Change Working Directory"
   ]
  },
  {
   "cell_type": "code",
   "execution_count": 2,
   "metadata": {
    "collapsed": true
   },
   "outputs": [],
   "source": [
    "import os\n",
    "os.chdir('F:')"
   ]
  },
  {
   "cell_type": "markdown",
   "metadata": {},
   "source": [
    "# Read .csv file"
   ]
  },
  {
   "cell_type": "code",
   "execution_count": 3,
   "metadata": {},
   "outputs": [
    {
     "data": {
      "text/html": [
       "<div>\n",
       "<style>\n",
       "    .dataframe thead tr:only-child th {\n",
       "        text-align: right;\n",
       "    }\n",
       "\n",
       "    .dataframe thead th {\n",
       "        text-align: left;\n",
       "    }\n",
       "\n",
       "    .dataframe tbody tr th {\n",
       "        vertical-align: top;\n",
       "    }\n",
       "</style>\n",
       "<table border=\"1\" class=\"dataframe\">\n",
       "  <thead>\n",
       "    <tr style=\"text-align: right;\">\n",
       "      <th></th>\n",
       "      <th>CustomerID</th>\n",
       "      <th>Gender</th>\n",
       "      <th>Age</th>\n",
       "      <th>Annual Income (k$)</th>\n",
       "      <th>Spending Score (1-100)</th>\n",
       "    </tr>\n",
       "  </thead>\n",
       "  <tbody>\n",
       "    <tr>\n",
       "      <th>0</th>\n",
       "      <td>1</td>\n",
       "      <td>Male</td>\n",
       "      <td>19</td>\n",
       "      <td>15</td>\n",
       "      <td>39</td>\n",
       "    </tr>\n",
       "    <tr>\n",
       "      <th>1</th>\n",
       "      <td>2</td>\n",
       "      <td>Male</td>\n",
       "      <td>21</td>\n",
       "      <td>15</td>\n",
       "      <td>81</td>\n",
       "    </tr>\n",
       "    <tr>\n",
       "      <th>2</th>\n",
       "      <td>3</td>\n",
       "      <td>Female</td>\n",
       "      <td>20</td>\n",
       "      <td>16</td>\n",
       "      <td>6</td>\n",
       "    </tr>\n",
       "    <tr>\n",
       "      <th>3</th>\n",
       "      <td>4</td>\n",
       "      <td>Female</td>\n",
       "      <td>23</td>\n",
       "      <td>16</td>\n",
       "      <td>77</td>\n",
       "    </tr>\n",
       "    <tr>\n",
       "      <th>4</th>\n",
       "      <td>5</td>\n",
       "      <td>Female</td>\n",
       "      <td>31</td>\n",
       "      <td>17</td>\n",
       "      <td>40</td>\n",
       "    </tr>\n",
       "  </tbody>\n",
       "</table>\n",
       "</div>"
      ],
      "text/plain": [
       "   CustomerID  Gender  Age  Annual Income (k$)  Spending Score (1-100)\n",
       "0           1    Male   19                  15                      39\n",
       "1           2    Male   21                  15                      81\n",
       "2           3  Female   20                  16                       6\n",
       "3           4  Female   23                  16                      77\n",
       "4           5  Female   31                  17                      40"
      ]
     },
     "execution_count": 3,
     "metadata": {},
     "output_type": "execute_result"
    }
   ],
   "source": [
    "datafile = pd.read_csv('MallCustomers.csv')\n",
    "datafile.head()"
   ]
  },
  {
   "cell_type": "code",
   "execution_count": 4,
   "metadata": {},
   "outputs": [
    {
     "data": {
      "text/plain": [
       "(200, 5)"
      ]
     },
     "execution_count": 4,
     "metadata": {},
     "output_type": "execute_result"
    }
   ],
   "source": [
    "datafile.shape"
   ]
  },
  {
   "cell_type": "code",
   "execution_count": 5,
   "metadata": {},
   "outputs": [],
   "source": [
    "X = datafile.iloc[:,:-1].values"
   ]
  },
  {
   "cell_type": "code",
   "execution_count": 6,
   "metadata": {},
   "outputs": [],
   "source": [
    "Y = datafile.iloc[:,4]"
   ]
  },
  {
   "cell_type": "markdown",
   "metadata": {},
   "source": [
    "# Missing Value Detection and Imputation"
   ]
  },
  {
   "cell_type": "code",
   "execution_count": 26,
   "metadata": {},
   "outputs": [
    {
     "name": "stdout",
     "output_type": "stream",
     "text": [
      "0    False\n",
      "1    False\n",
      "2     True\n",
      "3    False\n",
      "4    False\n",
      "5    False\n",
      "6     True\n",
      "7    False\n",
      "8    False\n",
      "Name: ST_NUM, dtype: bool\n"
     ]
    }
   ],
   "source": [
    "data = pd.read_csv('Sample_real_estate_data.csv')\n",
    "print(data['ST_NUM'].isnull())"
   ]
  },
  {
   "cell_type": "code",
   "execution_count": 27,
   "metadata": {},
   "outputs": [
    {
     "name": "stdout",
     "output_type": "stream",
     "text": [
      "0    False\n",
      "1    False\n",
      "2    False\n",
      "3    False\n",
      "4    False\n",
      "5     True\n",
      "6    False\n",
      "7    False\n",
      "8    False\n",
      "Name: NUM_BEDROOMS, dtype: bool\n"
     ]
    }
   ],
   "source": [
    "print(data['NUM_BEDROOMS'].isnull())"
   ]
  },
  {
   "cell_type": "code",
   "execution_count": 71,
   "metadata": {
    "collapsed": true
   },
   "outputs": [],
   "source": [
    "missing_value = [\"n/a\",\"na\",\"--\"]\n",
    "data1 = pd.read_csv('Sample_real_estate_data.csv', na_values = missing_value)\n",
    "data = data1"
   ]
  },
  {
   "cell_type": "code",
   "execution_count": 29,
   "metadata": {},
   "outputs": [
    {
     "name": "stdout",
     "output_type": "stream",
     "text": [
      "0    False\n",
      "1    False\n",
      "2     True\n",
      "3    False\n",
      "4    False\n",
      "5     True\n",
      "6    False\n",
      "7    False\n",
      "8     True\n",
      "Name: NUM_BEDROOMS, dtype: bool\n"
     ]
    }
   ],
   "source": [
    "print(data['NUM_BEDROOMS'].isnull())"
   ]
  },
  {
   "cell_type": "code",
   "execution_count": 30,
   "metadata": {},
   "outputs": [
    {
     "name": "stdout",
     "output_type": "stream",
     "text": [
      "0    False\n",
      "1    False\n",
      "2    False\n",
      "3    False\n",
      "4    False\n",
      "5    False\n",
      "6     True\n",
      "7    False\n",
      "8    False\n",
      "Name: OWN_OCCUPIED, dtype: bool\n"
     ]
    }
   ],
   "source": [
    "print(data['OWN_OCCUPIED'].isnull())"
   ]
  },
  {
   "cell_type": "code",
   "execution_count": 31,
   "metadata": {
    "collapsed": true
   },
   "outputs": [],
   "source": [
    "count = 0\n",
    "for row in data['OWN_OCCUPIED']:\n",
    "    try:\n",
    "        int(row)\n",
    "        data.loc[count, 'OWN_OCCUPIED '] = np.nan\n",
    "    except ValueError:\n",
    "        pass\n",
    "    count+=1\n"
   ]
  },
  {
   "cell_type": "code",
   "execution_count": 39,
   "metadata": {},
   "outputs": [
    {
     "name": "stdout",
     "output_type": "stream",
     "text": [
      "0    False\n",
      "1    False\n",
      "2    False\n",
      "3     True\n",
      "4    False\n",
      "5    False\n",
      "6     True\n",
      "7    False\n",
      "8    False\n",
      "Name: OWN_OCCUPIED, dtype: bool\n"
     ]
    }
   ],
   "source": [
    "print(data['OWN_OCCUPIED'].isnull())"
   ]
  },
  {
   "cell_type": "code",
   "execution_count": 40,
   "metadata": {},
   "outputs": [
    {
     "name": "stdout",
     "output_type": "stream",
     "text": [
      "PID             1\n",
      "ST_NUM          2\n",
      "ST_NAME         0\n",
      "OWN_OCCUPIED    2\n",
      "NUM_BEDROOMS    3\n",
      "NUM_BATH        1\n",
      "SQ_FT           2\n",
      "dtype: int64\n"
     ]
    }
   ],
   "source": [
    "print(data.isnull().sum())"
   ]
  },
  {
   "cell_type": "code",
   "execution_count": 45,
   "metadata": {},
   "outputs": [
    {
     "name": "stdout",
     "output_type": "stream",
     "text": [
      "True\n"
     ]
    }
   ],
   "source": [
    "print(data.isnull().values.any())"
   ]
  },
  {
   "cell_type": "code",
   "execution_count": 61,
   "metadata": {},
   "outputs": [
    {
     "data": {
      "text/plain": [
       "array([[104.0],\n",
       "       [197.0],\n",
       "       [191.42857142857142],\n",
       "       [201.0],\n",
       "       [203.0],\n",
       "       [207.0],\n",
       "       [191.42857142857142],\n",
       "       [213.0],\n",
       "       [215.0]], dtype=object)"
      ]
     },
     "execution_count": 61,
     "metadata": {},
     "output_type": "execute_result"
    }
   ],
   "source": [
    "from sklearn.preprocessing import Imputer\n",
    "\n",
    "X = data.iloc[:,:-1].values\n",
    "Y = data.iloc[:,6]\n",
    "imput = Imputer(missing_values = 'NaN', strategy= 'mean', axis=0)\n",
    "imput = imput.fit(X[:,1:2])\n",
    "X[:,1:2] = imput.transform(X[:,1:2])\n",
    "X[:,1:2]"
   ]
  },
  {
   "cell_type": "code",
   "execution_count": 62,
   "metadata": {},
   "outputs": [
    {
     "data": {
      "text/html": [
       "<div>\n",
       "<style>\n",
       "    .dataframe thead tr:only-child th {\n",
       "        text-align: right;\n",
       "    }\n",
       "\n",
       "    .dataframe thead th {\n",
       "        text-align: left;\n",
       "    }\n",
       "\n",
       "    .dataframe tbody tr th {\n",
       "        vertical-align: top;\n",
       "    }\n",
       "</style>\n",
       "<table border=\"1\" class=\"dataframe\">\n",
       "  <thead>\n",
       "    <tr style=\"text-align: right;\">\n",
       "      <th></th>\n",
       "      <th>PID</th>\n",
       "      <th>ST_NUM</th>\n",
       "      <th>ST_NAME</th>\n",
       "      <th>OWN_OCCUPIED</th>\n",
       "      <th>NUM_BEDROOMS</th>\n",
       "      <th>NUM_BATH</th>\n",
       "      <th>SQ_FT</th>\n",
       "    </tr>\n",
       "  </thead>\n",
       "  <tbody>\n",
       "    <tr>\n",
       "      <th>0</th>\n",
       "      <td>100001000.0</td>\n",
       "      <td>104.0</td>\n",
       "      <td>PUTNAM</td>\n",
       "      <td>Y</td>\n",
       "      <td>3.0</td>\n",
       "      <td>1</td>\n",
       "      <td>1000.0</td>\n",
       "    </tr>\n",
       "    <tr>\n",
       "      <th>1</th>\n",
       "      <td>100002000.0</td>\n",
       "      <td>197.0</td>\n",
       "      <td>LEXINGTON</td>\n",
       "      <td>N</td>\n",
       "      <td>3.0</td>\n",
       "      <td>1.5</td>\n",
       "      <td>NaN</td>\n",
       "    </tr>\n",
       "    <tr>\n",
       "      <th>2</th>\n",
       "      <td>100003000.0</td>\n",
       "      <td>NaN</td>\n",
       "      <td>LEXINGTON</td>\n",
       "      <td>N</td>\n",
       "      <td>NaN</td>\n",
       "      <td>1</td>\n",
       "      <td>850.0</td>\n",
       "    </tr>\n",
       "    <tr>\n",
       "      <th>3</th>\n",
       "      <td>100004000.0</td>\n",
       "      <td>201.0</td>\n",
       "      <td>BERKELEY</td>\n",
       "      <td>NaN</td>\n",
       "      <td>1.0</td>\n",
       "      <td>NaN</td>\n",
       "      <td>700.0</td>\n",
       "    </tr>\n",
       "    <tr>\n",
       "      <th>4</th>\n",
       "      <td>NaN</td>\n",
       "      <td>203.0</td>\n",
       "      <td>BERKELEY</td>\n",
       "      <td>Y</td>\n",
       "      <td>3.0</td>\n",
       "      <td>2</td>\n",
       "      <td>1600.0</td>\n",
       "    </tr>\n",
       "    <tr>\n",
       "      <th>5</th>\n",
       "      <td>100006000.0</td>\n",
       "      <td>207.0</td>\n",
       "      <td>BERKELEY</td>\n",
       "      <td>Y</td>\n",
       "      <td>NaN</td>\n",
       "      <td>1</td>\n",
       "      <td>800.0</td>\n",
       "    </tr>\n",
       "    <tr>\n",
       "      <th>6</th>\n",
       "      <td>100007000.0</td>\n",
       "      <td>NaN</td>\n",
       "      <td>WASHINGTON</td>\n",
       "      <td>NaN</td>\n",
       "      <td>2.0</td>\n",
       "      <td>HURLEY</td>\n",
       "      <td>950.0</td>\n",
       "    </tr>\n",
       "    <tr>\n",
       "      <th>7</th>\n",
       "      <td>100008000.0</td>\n",
       "      <td>213.0</td>\n",
       "      <td>TREMONT</td>\n",
       "      <td>Y</td>\n",
       "      <td>1.0</td>\n",
       "      <td>1</td>\n",
       "      <td>NaN</td>\n",
       "    </tr>\n",
       "    <tr>\n",
       "      <th>8</th>\n",
       "      <td>100009000.0</td>\n",
       "      <td>215.0</td>\n",
       "      <td>TREMONT</td>\n",
       "      <td>Y</td>\n",
       "      <td>NaN</td>\n",
       "      <td>2</td>\n",
       "      <td>1800.0</td>\n",
       "    </tr>\n",
       "  </tbody>\n",
       "</table>\n",
       "</div>"
      ],
      "text/plain": [
       "           PID  ST_NUM     ST_NAME OWN_OCCUPIED  NUM_BEDROOMS NUM_BATH   SQ_FT\n",
       "0  100001000.0   104.0      PUTNAM            Y           3.0        1  1000.0\n",
       "1  100002000.0   197.0   LEXINGTON            N           3.0      1.5     NaN\n",
       "2  100003000.0     NaN   LEXINGTON            N           NaN        1   850.0\n",
       "3  100004000.0   201.0    BERKELEY          NaN           1.0      NaN   700.0\n",
       "4          NaN   203.0    BERKELEY            Y           3.0        2  1600.0\n",
       "5  100006000.0   207.0    BERKELEY            Y           NaN        1   800.0\n",
       "6  100007000.0     NaN  WASHINGTON          NaN           2.0   HURLEY   950.0\n",
       "7  100008000.0   213.0     TREMONT            Y           1.0        1     NaN\n",
       "8  100009000.0   215.0     TREMONT            Y           NaN        2  1800.0"
      ]
     },
     "execution_count": 62,
     "metadata": {},
     "output_type": "execute_result"
    }
   ],
   "source": [
    "data"
   ]
  },
  {
   "cell_type": "code",
   "execution_count": 72,
   "metadata": {},
   "outputs": [
    {
     "data": {
      "text/html": [
       "<div>\n",
       "<style>\n",
       "    .dataframe thead tr:only-child th {\n",
       "        text-align: right;\n",
       "    }\n",
       "\n",
       "    .dataframe thead th {\n",
       "        text-align: left;\n",
       "    }\n",
       "\n",
       "    .dataframe tbody tr th {\n",
       "        vertical-align: top;\n",
       "    }\n",
       "</style>\n",
       "<table border=\"1\" class=\"dataframe\">\n",
       "  <thead>\n",
       "    <tr style=\"text-align: right;\">\n",
       "      <th></th>\n",
       "      <th>PID</th>\n",
       "      <th>ST_NUM</th>\n",
       "      <th>ST_NAME</th>\n",
       "      <th>OWN_OCCUPIED</th>\n",
       "      <th>NUM_BEDROOMS</th>\n",
       "      <th>NUM_BATH</th>\n",
       "      <th>SQ_FT</th>\n",
       "    </tr>\n",
       "  </thead>\n",
       "  <tbody>\n",
       "    <tr>\n",
       "      <th>0</th>\n",
       "      <td>100001000.0</td>\n",
       "      <td>104.0</td>\n",
       "      <td>PUTNAM</td>\n",
       "      <td>Y</td>\n",
       "      <td>3.0</td>\n",
       "      <td>1</td>\n",
       "      <td>1000.0</td>\n",
       "    </tr>\n",
       "    <tr>\n",
       "      <th>1</th>\n",
       "      <td>100002000.0</td>\n",
       "      <td>197.0</td>\n",
       "      <td>LEXINGTON</td>\n",
       "      <td>N</td>\n",
       "      <td>3.0</td>\n",
       "      <td>1.5</td>\n",
       "      <td>NaN</td>\n",
       "    </tr>\n",
       "    <tr>\n",
       "      <th>2</th>\n",
       "      <td>100003000.0</td>\n",
       "      <td>NaN</td>\n",
       "      <td>LEXINGTON</td>\n",
       "      <td>N</td>\n",
       "      <td>2.5</td>\n",
       "      <td>1</td>\n",
       "      <td>850.0</td>\n",
       "    </tr>\n",
       "    <tr>\n",
       "      <th>3</th>\n",
       "      <td>100004000.0</td>\n",
       "      <td>201.0</td>\n",
       "      <td>BERKELEY</td>\n",
       "      <td>NaN</td>\n",
       "      <td>1.0</td>\n",
       "      <td>NaN</td>\n",
       "      <td>700.0</td>\n",
       "    </tr>\n",
       "    <tr>\n",
       "      <th>4</th>\n",
       "      <td>NaN</td>\n",
       "      <td>203.0</td>\n",
       "      <td>BERKELEY</td>\n",
       "      <td>Y</td>\n",
       "      <td>3.0</td>\n",
       "      <td>2</td>\n",
       "      <td>1600.0</td>\n",
       "    </tr>\n",
       "    <tr>\n",
       "      <th>5</th>\n",
       "      <td>100006000.0</td>\n",
       "      <td>207.0</td>\n",
       "      <td>BERKELEY</td>\n",
       "      <td>Y</td>\n",
       "      <td>2.5</td>\n",
       "      <td>1</td>\n",
       "      <td>800.0</td>\n",
       "    </tr>\n",
       "    <tr>\n",
       "      <th>6</th>\n",
       "      <td>100007000.0</td>\n",
       "      <td>NaN</td>\n",
       "      <td>WASHINGTON</td>\n",
       "      <td>NaN</td>\n",
       "      <td>2.0</td>\n",
       "      <td>HURLEY</td>\n",
       "      <td>950.0</td>\n",
       "    </tr>\n",
       "    <tr>\n",
       "      <th>7</th>\n",
       "      <td>100008000.0</td>\n",
       "      <td>213.0</td>\n",
       "      <td>TREMONT</td>\n",
       "      <td>Y</td>\n",
       "      <td>1.0</td>\n",
       "      <td>1</td>\n",
       "      <td>NaN</td>\n",
       "    </tr>\n",
       "    <tr>\n",
       "      <th>8</th>\n",
       "      <td>100009000.0</td>\n",
       "      <td>215.0</td>\n",
       "      <td>TREMONT</td>\n",
       "      <td>Y</td>\n",
       "      <td>2.5</td>\n",
       "      <td>2</td>\n",
       "      <td>1800.0</td>\n",
       "    </tr>\n",
       "  </tbody>\n",
       "</table>\n",
       "</div>"
      ],
      "text/plain": [
       "           PID  ST_NUM     ST_NAME OWN_OCCUPIED  NUM_BEDROOMS NUM_BATH   SQ_FT\n",
       "0  100001000.0   104.0      PUTNAM            Y           3.0        1  1000.0\n",
       "1  100002000.0   197.0   LEXINGTON            N           3.0      1.5     NaN\n",
       "2  100003000.0     NaN   LEXINGTON            N           2.5        1   850.0\n",
       "3  100004000.0   201.0    BERKELEY          NaN           1.0      NaN   700.0\n",
       "4          NaN   203.0    BERKELEY            Y           3.0        2  1600.0\n",
       "5  100006000.0   207.0    BERKELEY            Y           2.5        1   800.0\n",
       "6  100007000.0     NaN  WASHINGTON          NaN           2.0   HURLEY   950.0\n",
       "7  100008000.0   213.0     TREMONT            Y           1.0        1     NaN\n",
       "8  100009000.0   215.0     TREMONT            Y           2.5        2  1800.0"
      ]
     },
     "execution_count": 72,
     "metadata": {},
     "output_type": "execute_result"
    }
   ],
   "source": [
    "median = data['NUM_BEDROOMS'].median()\n",
    "data['NUM_BEDROOMS'].fillna(median, inplace=True)\n",
    "data"
   ]
  },
  {
   "cell_type": "markdown",
   "metadata": {},
   "source": [
    "# Categorical Variable Encoding"
   ]
  },
  {
   "cell_type": "code",
   "execution_count": 145,
   "metadata": {},
   "outputs": [
    {
     "data": {
      "text/html": [
       "<div>\n",
       "<style>\n",
       "    .dataframe thead tr:only-child th {\n",
       "        text-align: right;\n",
       "    }\n",
       "\n",
       "    .dataframe thead th {\n",
       "        text-align: left;\n",
       "    }\n",
       "\n",
       "    .dataframe tbody tr th {\n",
       "        vertical-align: top;\n",
       "    }\n",
       "</style>\n",
       "<table border=\"1\" class=\"dataframe\">\n",
       "  <thead>\n",
       "    <tr style=\"text-align: right;\">\n",
       "      <th></th>\n",
       "      <th>CustomerID</th>\n",
       "      <th>Gender</th>\n",
       "      <th>Age</th>\n",
       "      <th>Annual Income (k$)</th>\n",
       "      <th>Spending Score (1-100)</th>\n",
       "    </tr>\n",
       "  </thead>\n",
       "  <tbody>\n",
       "    <tr>\n",
       "      <th>0</th>\n",
       "      <td>1</td>\n",
       "      <td>Male</td>\n",
       "      <td>19</td>\n",
       "      <td>15</td>\n",
       "      <td>39</td>\n",
       "    </tr>\n",
       "    <tr>\n",
       "      <th>1</th>\n",
       "      <td>2</td>\n",
       "      <td>Male</td>\n",
       "      <td>21</td>\n",
       "      <td>15</td>\n",
       "      <td>81</td>\n",
       "    </tr>\n",
       "    <tr>\n",
       "      <th>2</th>\n",
       "      <td>3</td>\n",
       "      <td>Female</td>\n",
       "      <td>20</td>\n",
       "      <td>16</td>\n",
       "      <td>6</td>\n",
       "    </tr>\n",
       "    <tr>\n",
       "      <th>3</th>\n",
       "      <td>4</td>\n",
       "      <td>Female</td>\n",
       "      <td>23</td>\n",
       "      <td>16</td>\n",
       "      <td>77</td>\n",
       "    </tr>\n",
       "    <tr>\n",
       "      <th>4</th>\n",
       "      <td>5</td>\n",
       "      <td>Female</td>\n",
       "      <td>31</td>\n",
       "      <td>17</td>\n",
       "      <td>40</td>\n",
       "    </tr>\n",
       "  </tbody>\n",
       "</table>\n",
       "</div>"
      ],
      "text/plain": [
       "   CustomerID  Gender  Age  Annual Income (k$)  Spending Score (1-100)\n",
       "0           1    Male   19                  15                      39\n",
       "1           2    Male   21                  15                      81\n",
       "2           3  Female   20                  16                       6\n",
       "3           4  Female   23                  16                      77\n",
       "4           5  Female   31                  17                      40"
      ]
     },
     "execution_count": 145,
     "metadata": {},
     "output_type": "execute_result"
    }
   ],
   "source": [
    "data = pd.read_csv('MallCustomers.csv')\n",
    "data.head()"
   ]
  },
  {
   "cell_type": "code",
   "execution_count": 146,
   "metadata": {
    "collapsed": true
   },
   "outputs": [],
   "source": [
    "X = data.iloc[:,:-1].values\n",
    "Y = data.iloc[:,4].values"
   ]
  },
  {
   "cell_type": "code",
   "execution_count": 147,
   "metadata": {},
   "outputs": [
    {
     "data": {
      "text/plain": [
       "array([[1, 1, 19, 15],\n",
       "       [2, 1, 21, 15],\n",
       "       [3, 0, 20, 16],\n",
       "       [4, 0, 23, 16],\n",
       "       [5, 0, 31, 17],\n",
       "       [6, 0, 22, 17],\n",
       "       [7, 0, 35, 18],\n",
       "       [8, 0, 23, 18],\n",
       "       [9, 1, 64, 19],\n",
       "       [10, 0, 30, 19],\n",
       "       [11, 1, 67, 19],\n",
       "       [12, 0, 35, 19],\n",
       "       [13, 0, 58, 20],\n",
       "       [14, 0, 24, 20],\n",
       "       [15, 1, 37, 20],\n",
       "       [16, 1, 22, 20],\n",
       "       [17, 0, 35, 21],\n",
       "       [18, 1, 20, 21],\n",
       "       [19, 1, 52, 23],\n",
       "       [20, 0, 35, 23],\n",
       "       [21, 1, 35, 24],\n",
       "       [22, 1, 25, 24],\n",
       "       [23, 0, 46, 25],\n",
       "       [24, 1, 31, 25],\n",
       "       [25, 0, 54, 28],\n",
       "       [26, 1, 29, 28],\n",
       "       [27, 0, 45, 28],\n",
       "       [28, 1, 35, 28],\n",
       "       [29, 0, 40, 29],\n",
       "       [30, 0, 23, 29],\n",
       "       [31, 1, 60, 30],\n",
       "       [32, 0, 21, 30],\n",
       "       [33, 1, 53, 33],\n",
       "       [34, 1, 18, 33],\n",
       "       [35, 0, 49, 33],\n",
       "       [36, 0, 21, 33],\n",
       "       [37, 0, 42, 34],\n",
       "       [38, 0, 30, 34],\n",
       "       [39, 0, 36, 37],\n",
       "       [40, 0, 20, 37],\n",
       "       [41, 0, 65, 38],\n",
       "       [42, 1, 24, 38],\n",
       "       [43, 1, 48, 39],\n",
       "       [44, 0, 31, 39],\n",
       "       [45, 0, 49, 39],\n",
       "       [46, 0, 24, 39],\n",
       "       [47, 0, 50, 40],\n",
       "       [48, 0, 27, 40],\n",
       "       [49, 0, 29, 40],\n",
       "       [50, 0, 31, 40],\n",
       "       [51, 0, 49, 42],\n",
       "       [52, 1, 33, 42],\n",
       "       [53, 0, 31, 43],\n",
       "       [54, 1, 59, 43],\n",
       "       [55, 0, 50, 43],\n",
       "       [56, 1, 47, 43],\n",
       "       [57, 0, 51, 44],\n",
       "       [58, 1, 69, 44],\n",
       "       [59, 0, 27, 46],\n",
       "       [60, 1, 53, 46],\n",
       "       [61, 1, 70, 46],\n",
       "       [62, 1, 19, 46],\n",
       "       [63, 0, 67, 47],\n",
       "       [64, 0, 54, 47],\n",
       "       [65, 1, 63, 48],\n",
       "       [66, 1, 18, 48],\n",
       "       [67, 0, 43, 48],\n",
       "       [68, 0, 68, 48],\n",
       "       [69, 1, 19, 48],\n",
       "       [70, 0, 32, 48],\n",
       "       [71, 1, 70, 49],\n",
       "       [72, 0, 47, 49],\n",
       "       [73, 0, 60, 50],\n",
       "       [74, 0, 60, 50],\n",
       "       [75, 1, 59, 54],\n",
       "       [76, 1, 26, 54],\n",
       "       [77, 0, 45, 54],\n",
       "       [78, 1, 40, 54],\n",
       "       [79, 0, 23, 54],\n",
       "       [80, 0, 49, 54],\n",
       "       [81, 1, 57, 54],\n",
       "       [82, 1, 38, 54],\n",
       "       [83, 1, 67, 54],\n",
       "       [84, 0, 46, 54],\n",
       "       [85, 0, 21, 54],\n",
       "       [86, 1, 48, 54],\n",
       "       [87, 0, 55, 57],\n",
       "       [88, 0, 22, 57],\n",
       "       [89, 0, 34, 58],\n",
       "       [90, 0, 50, 58],\n",
       "       [91, 0, 68, 59],\n",
       "       [92, 1, 18, 59],\n",
       "       [93, 1, 48, 60],\n",
       "       [94, 0, 40, 60],\n",
       "       [95, 0, 32, 60],\n",
       "       [96, 1, 24, 60],\n",
       "       [97, 0, 47, 60],\n",
       "       [98, 0, 27, 60],\n",
       "       [99, 1, 48, 61],\n",
       "       [100, 1, 20, 61],\n",
       "       [101, 0, 23, 62],\n",
       "       [102, 0, 49, 62],\n",
       "       [103, 1, 67, 62],\n",
       "       [104, 1, 26, 62],\n",
       "       [105, 1, 49, 62],\n",
       "       [106, 0, 21, 62],\n",
       "       [107, 0, 66, 63],\n",
       "       [108, 1, 54, 63],\n",
       "       [109, 1, 68, 63],\n",
       "       [110, 1, 66, 63],\n",
       "       [111, 1, 65, 63],\n",
       "       [112, 0, 19, 63],\n",
       "       [113, 0, 38, 64],\n",
       "       [114, 1, 19, 64],\n",
       "       [115, 0, 18, 65],\n",
       "       [116, 0, 19, 65],\n",
       "       [117, 0, 63, 65],\n",
       "       [118, 0, 49, 65],\n",
       "       [119, 0, 51, 67],\n",
       "       [120, 0, 50, 67],\n",
       "       [121, 1, 27, 67],\n",
       "       [122, 0, 38, 67],\n",
       "       [123, 0, 40, 69],\n",
       "       [124, 1, 39, 69],\n",
       "       [125, 0, 23, 70],\n",
       "       [126, 0, 31, 70],\n",
       "       [127, 1, 43, 71],\n",
       "       [128, 1, 40, 71],\n",
       "       [129, 1, 59, 71],\n",
       "       [130, 1, 38, 71],\n",
       "       [131, 1, 47, 71],\n",
       "       [132, 1, 39, 71],\n",
       "       [133, 0, 25, 72],\n",
       "       [134, 0, 31, 72],\n",
       "       [135, 1, 20, 73],\n",
       "       [136, 0, 29, 73],\n",
       "       [137, 0, 44, 73],\n",
       "       [138, 1, 32, 73],\n",
       "       [139, 1, 19, 74],\n",
       "       [140, 0, 35, 74],\n",
       "       [141, 0, 57, 75],\n",
       "       [142, 1, 32, 75],\n",
       "       [143, 0, 28, 76],\n",
       "       [144, 0, 32, 76],\n",
       "       [145, 1, 25, 77],\n",
       "       [146, 1, 28, 77],\n",
       "       [147, 1, 48, 77],\n",
       "       [148, 0, 32, 77],\n",
       "       [149, 0, 34, 78],\n",
       "       [150, 1, 34, 78],\n",
       "       [151, 1, 43, 78],\n",
       "       [152, 1, 39, 78],\n",
       "       [153, 0, 44, 78],\n",
       "       [154, 0, 38, 78],\n",
       "       [155, 0, 47, 78],\n",
       "       [156, 0, 27, 78],\n",
       "       [157, 1, 37, 78],\n",
       "       [158, 0, 30, 78],\n",
       "       [159, 1, 34, 78],\n",
       "       [160, 0, 30, 78],\n",
       "       [161, 0, 56, 79],\n",
       "       [162, 0, 29, 79],\n",
       "       [163, 1, 19, 81],\n",
       "       [164, 0, 31, 81],\n",
       "       [165, 1, 50, 85],\n",
       "       [166, 0, 36, 85],\n",
       "       [167, 1, 42, 86],\n",
       "       [168, 0, 33, 86],\n",
       "       [169, 0, 36, 87],\n",
       "       [170, 1, 32, 87],\n",
       "       [171, 1, 40, 87],\n",
       "       [172, 1, 28, 87],\n",
       "       [173, 1, 36, 87],\n",
       "       [174, 1, 36, 87],\n",
       "       [175, 0, 52, 88],\n",
       "       [176, 0, 30, 88],\n",
       "       [177, 1, 58, 88],\n",
       "       [178, 1, 27, 88],\n",
       "       [179, 1, 59, 93],\n",
       "       [180, 1, 35, 93],\n",
       "       [181, 0, 37, 97],\n",
       "       [182, 0, 32, 97],\n",
       "       [183, 1, 46, 98],\n",
       "       [184, 0, 29, 98],\n",
       "       [185, 0, 41, 99],\n",
       "       [186, 1, 30, 99],\n",
       "       [187, 0, 54, 101],\n",
       "       [188, 1, 28, 101],\n",
       "       [189, 0, 41, 103],\n",
       "       [190, 0, 36, 103],\n",
       "       [191, 0, 34, 103],\n",
       "       [192, 0, 32, 103],\n",
       "       [193, 1, 33, 113],\n",
       "       [194, 0, 38, 113],\n",
       "       [195, 0, 47, 120],\n",
       "       [196, 0, 35, 120],\n",
       "       [197, 0, 45, 126],\n",
       "       [198, 1, 32, 126],\n",
       "       [199, 1, 32, 137],\n",
       "       [200, 1, 30, 137]], dtype=object)"
      ]
     },
     "execution_count": 147,
     "metadata": {},
     "output_type": "execute_result"
    }
   ],
   "source": [
    "from sklearn.preprocessing import LabelEncoder\n",
    "lblencode = LabelEncoder()\n",
    "X[:,1] = lblencode.fit_transform(X[:,1])\n",
    "X"
   ]
  },
  {
   "cell_type": "markdown",
   "metadata": {},
   "source": [
    "## One Hot Encoding"
   ]
  },
  {
   "cell_type": "code",
   "execution_count": 148,
   "metadata": {
    "collapsed": true
   },
   "outputs": [],
   "source": [
    "from sklearn.preprocessing import OneHotEncoder\n",
    "onehotencod = OneHotEncoder(categorical_features = [1])"
   ]
  },
  {
   "cell_type": "code",
   "execution_count": 149,
   "metadata": {},
   "outputs": [
    {
     "data": {
      "text/plain": [
       "array([[   0.,    1.,    1.,   19.,   15.],\n",
       "       [   0.,    1.,    2.,   21.,   15.],\n",
       "       [   1.,    0.,    3.,   20.,   16.],\n",
       "       [   1.,    0.,    4.,   23.,   16.],\n",
       "       [   1.,    0.,    5.,   31.,   17.],\n",
       "       [   1.,    0.,    6.,   22.,   17.],\n",
       "       [   1.,    0.,    7.,   35.,   18.],\n",
       "       [   1.,    0.,    8.,   23.,   18.],\n",
       "       [   0.,    1.,    9.,   64.,   19.],\n",
       "       [   1.,    0.,   10.,   30.,   19.],\n",
       "       [   0.,    1.,   11.,   67.,   19.],\n",
       "       [   1.,    0.,   12.,   35.,   19.],\n",
       "       [   1.,    0.,   13.,   58.,   20.],\n",
       "       [   1.,    0.,   14.,   24.,   20.],\n",
       "       [   0.,    1.,   15.,   37.,   20.],\n",
       "       [   0.,    1.,   16.,   22.,   20.],\n",
       "       [   1.,    0.,   17.,   35.,   21.],\n",
       "       [   0.,    1.,   18.,   20.,   21.],\n",
       "       [   0.,    1.,   19.,   52.,   23.],\n",
       "       [   1.,    0.,   20.,   35.,   23.],\n",
       "       [   0.,    1.,   21.,   35.,   24.],\n",
       "       [   0.,    1.,   22.,   25.,   24.],\n",
       "       [   1.,    0.,   23.,   46.,   25.],\n",
       "       [   0.,    1.,   24.,   31.,   25.],\n",
       "       [   1.,    0.,   25.,   54.,   28.],\n",
       "       [   0.,    1.,   26.,   29.,   28.],\n",
       "       [   1.,    0.,   27.,   45.,   28.],\n",
       "       [   0.,    1.,   28.,   35.,   28.],\n",
       "       [   1.,    0.,   29.,   40.,   29.],\n",
       "       [   1.,    0.,   30.,   23.,   29.],\n",
       "       [   0.,    1.,   31.,   60.,   30.],\n",
       "       [   1.,    0.,   32.,   21.,   30.],\n",
       "       [   0.,    1.,   33.,   53.,   33.],\n",
       "       [   0.,    1.,   34.,   18.,   33.],\n",
       "       [   1.,    0.,   35.,   49.,   33.],\n",
       "       [   1.,    0.,   36.,   21.,   33.],\n",
       "       [   1.,    0.,   37.,   42.,   34.],\n",
       "       [   1.,    0.,   38.,   30.,   34.],\n",
       "       [   1.,    0.,   39.,   36.,   37.],\n",
       "       [   1.,    0.,   40.,   20.,   37.],\n",
       "       [   1.,    0.,   41.,   65.,   38.],\n",
       "       [   0.,    1.,   42.,   24.,   38.],\n",
       "       [   0.,    1.,   43.,   48.,   39.],\n",
       "       [   1.,    0.,   44.,   31.,   39.],\n",
       "       [   1.,    0.,   45.,   49.,   39.],\n",
       "       [   1.,    0.,   46.,   24.,   39.],\n",
       "       [   1.,    0.,   47.,   50.,   40.],\n",
       "       [   1.,    0.,   48.,   27.,   40.],\n",
       "       [   1.,    0.,   49.,   29.,   40.],\n",
       "       [   1.,    0.,   50.,   31.,   40.],\n",
       "       [   1.,    0.,   51.,   49.,   42.],\n",
       "       [   0.,    1.,   52.,   33.,   42.],\n",
       "       [   1.,    0.,   53.,   31.,   43.],\n",
       "       [   0.,    1.,   54.,   59.,   43.],\n",
       "       [   1.,    0.,   55.,   50.,   43.],\n",
       "       [   0.,    1.,   56.,   47.,   43.],\n",
       "       [   1.,    0.,   57.,   51.,   44.],\n",
       "       [   0.,    1.,   58.,   69.,   44.],\n",
       "       [   1.,    0.,   59.,   27.,   46.],\n",
       "       [   0.,    1.,   60.,   53.,   46.],\n",
       "       [   0.,    1.,   61.,   70.,   46.],\n",
       "       [   0.,    1.,   62.,   19.,   46.],\n",
       "       [   1.,    0.,   63.,   67.,   47.],\n",
       "       [   1.,    0.,   64.,   54.,   47.],\n",
       "       [   0.,    1.,   65.,   63.,   48.],\n",
       "       [   0.,    1.,   66.,   18.,   48.],\n",
       "       [   1.,    0.,   67.,   43.,   48.],\n",
       "       [   1.,    0.,   68.,   68.,   48.],\n",
       "       [   0.,    1.,   69.,   19.,   48.],\n",
       "       [   1.,    0.,   70.,   32.,   48.],\n",
       "       [   0.,    1.,   71.,   70.,   49.],\n",
       "       [   1.,    0.,   72.,   47.,   49.],\n",
       "       [   1.,    0.,   73.,   60.,   50.],\n",
       "       [   1.,    0.,   74.,   60.,   50.],\n",
       "       [   0.,    1.,   75.,   59.,   54.],\n",
       "       [   0.,    1.,   76.,   26.,   54.],\n",
       "       [   1.,    0.,   77.,   45.,   54.],\n",
       "       [   0.,    1.,   78.,   40.,   54.],\n",
       "       [   1.,    0.,   79.,   23.,   54.],\n",
       "       [   1.,    0.,   80.,   49.,   54.],\n",
       "       [   0.,    1.,   81.,   57.,   54.],\n",
       "       [   0.,    1.,   82.,   38.,   54.],\n",
       "       [   0.,    1.,   83.,   67.,   54.],\n",
       "       [   1.,    0.,   84.,   46.,   54.],\n",
       "       [   1.,    0.,   85.,   21.,   54.],\n",
       "       [   0.,    1.,   86.,   48.,   54.],\n",
       "       [   1.,    0.,   87.,   55.,   57.],\n",
       "       [   1.,    0.,   88.,   22.,   57.],\n",
       "       [   1.,    0.,   89.,   34.,   58.],\n",
       "       [   1.,    0.,   90.,   50.,   58.],\n",
       "       [   1.,    0.,   91.,   68.,   59.],\n",
       "       [   0.,    1.,   92.,   18.,   59.],\n",
       "       [   0.,    1.,   93.,   48.,   60.],\n",
       "       [   1.,    0.,   94.,   40.,   60.],\n",
       "       [   1.,    0.,   95.,   32.,   60.],\n",
       "       [   0.,    1.,   96.,   24.,   60.],\n",
       "       [   1.,    0.,   97.,   47.,   60.],\n",
       "       [   1.,    0.,   98.,   27.,   60.],\n",
       "       [   0.,    1.,   99.,   48.,   61.],\n",
       "       [   0.,    1.,  100.,   20.,   61.],\n",
       "       [   1.,    0.,  101.,   23.,   62.],\n",
       "       [   1.,    0.,  102.,   49.,   62.],\n",
       "       [   0.,    1.,  103.,   67.,   62.],\n",
       "       [   0.,    1.,  104.,   26.,   62.],\n",
       "       [   0.,    1.,  105.,   49.,   62.],\n",
       "       [   1.,    0.,  106.,   21.,   62.],\n",
       "       [   1.,    0.,  107.,   66.,   63.],\n",
       "       [   0.,    1.,  108.,   54.,   63.],\n",
       "       [   0.,    1.,  109.,   68.,   63.],\n",
       "       [   0.,    1.,  110.,   66.,   63.],\n",
       "       [   0.,    1.,  111.,   65.,   63.],\n",
       "       [   1.,    0.,  112.,   19.,   63.],\n",
       "       [   1.,    0.,  113.,   38.,   64.],\n",
       "       [   0.,    1.,  114.,   19.,   64.],\n",
       "       [   1.,    0.,  115.,   18.,   65.],\n",
       "       [   1.,    0.,  116.,   19.,   65.],\n",
       "       [   1.,    0.,  117.,   63.,   65.],\n",
       "       [   1.,    0.,  118.,   49.,   65.],\n",
       "       [   1.,    0.,  119.,   51.,   67.],\n",
       "       [   1.,    0.,  120.,   50.,   67.],\n",
       "       [   0.,    1.,  121.,   27.,   67.],\n",
       "       [   1.,    0.,  122.,   38.,   67.],\n",
       "       [   1.,    0.,  123.,   40.,   69.],\n",
       "       [   0.,    1.,  124.,   39.,   69.],\n",
       "       [   1.,    0.,  125.,   23.,   70.],\n",
       "       [   1.,    0.,  126.,   31.,   70.],\n",
       "       [   0.,    1.,  127.,   43.,   71.],\n",
       "       [   0.,    1.,  128.,   40.,   71.],\n",
       "       [   0.,    1.,  129.,   59.,   71.],\n",
       "       [   0.,    1.,  130.,   38.,   71.],\n",
       "       [   0.,    1.,  131.,   47.,   71.],\n",
       "       [   0.,    1.,  132.,   39.,   71.],\n",
       "       [   1.,    0.,  133.,   25.,   72.],\n",
       "       [   1.,    0.,  134.,   31.,   72.],\n",
       "       [   0.,    1.,  135.,   20.,   73.],\n",
       "       [   1.,    0.,  136.,   29.,   73.],\n",
       "       [   1.,    0.,  137.,   44.,   73.],\n",
       "       [   0.,    1.,  138.,   32.,   73.],\n",
       "       [   0.,    1.,  139.,   19.,   74.],\n",
       "       [   1.,    0.,  140.,   35.,   74.],\n",
       "       [   1.,    0.,  141.,   57.,   75.],\n",
       "       [   0.,    1.,  142.,   32.,   75.],\n",
       "       [   1.,    0.,  143.,   28.,   76.],\n",
       "       [   1.,    0.,  144.,   32.,   76.],\n",
       "       [   0.,    1.,  145.,   25.,   77.],\n",
       "       [   0.,    1.,  146.,   28.,   77.],\n",
       "       [   0.,    1.,  147.,   48.,   77.],\n",
       "       [   1.,    0.,  148.,   32.,   77.],\n",
       "       [   1.,    0.,  149.,   34.,   78.],\n",
       "       [   0.,    1.,  150.,   34.,   78.],\n",
       "       [   0.,    1.,  151.,   43.,   78.],\n",
       "       [   0.,    1.,  152.,   39.,   78.],\n",
       "       [   1.,    0.,  153.,   44.,   78.],\n",
       "       [   1.,    0.,  154.,   38.,   78.],\n",
       "       [   1.,    0.,  155.,   47.,   78.],\n",
       "       [   1.,    0.,  156.,   27.,   78.],\n",
       "       [   0.,    1.,  157.,   37.,   78.],\n",
       "       [   1.,    0.,  158.,   30.,   78.],\n",
       "       [   0.,    1.,  159.,   34.,   78.],\n",
       "       [   1.,    0.,  160.,   30.,   78.],\n",
       "       [   1.,    0.,  161.,   56.,   79.],\n",
       "       [   1.,    0.,  162.,   29.,   79.],\n",
       "       [   0.,    1.,  163.,   19.,   81.],\n",
       "       [   1.,    0.,  164.,   31.,   81.],\n",
       "       [   0.,    1.,  165.,   50.,   85.],\n",
       "       [   1.,    0.,  166.,   36.,   85.],\n",
       "       [   0.,    1.,  167.,   42.,   86.],\n",
       "       [   1.,    0.,  168.,   33.,   86.],\n",
       "       [   1.,    0.,  169.,   36.,   87.],\n",
       "       [   0.,    1.,  170.,   32.,   87.],\n",
       "       [   0.,    1.,  171.,   40.,   87.],\n",
       "       [   0.,    1.,  172.,   28.,   87.],\n",
       "       [   0.,    1.,  173.,   36.,   87.],\n",
       "       [   0.,    1.,  174.,   36.,   87.],\n",
       "       [   1.,    0.,  175.,   52.,   88.],\n",
       "       [   1.,    0.,  176.,   30.,   88.],\n",
       "       [   0.,    1.,  177.,   58.,   88.],\n",
       "       [   0.,    1.,  178.,   27.,   88.],\n",
       "       [   0.,    1.,  179.,   59.,   93.],\n",
       "       [   0.,    1.,  180.,   35.,   93.],\n",
       "       [   1.,    0.,  181.,   37.,   97.],\n",
       "       [   1.,    0.,  182.,   32.,   97.],\n",
       "       [   0.,    1.,  183.,   46.,   98.],\n",
       "       [   1.,    0.,  184.,   29.,   98.],\n",
       "       [   1.,    0.,  185.,   41.,   99.],\n",
       "       [   0.,    1.,  186.,   30.,   99.],\n",
       "       [   1.,    0.,  187.,   54.,  101.],\n",
       "       [   0.,    1.,  188.,   28.,  101.],\n",
       "       [   1.,    0.,  189.,   41.,  103.],\n",
       "       [   1.,    0.,  190.,   36.,  103.],\n",
       "       [   1.,    0.,  191.,   34.,  103.],\n",
       "       [   1.,    0.,  192.,   32.,  103.],\n",
       "       [   0.,    1.,  193.,   33.,  113.],\n",
       "       [   1.,    0.,  194.,   38.,  113.],\n",
       "       [   1.,    0.,  195.,   47.,  120.],\n",
       "       [   1.,    0.,  196.,   35.,  120.],\n",
       "       [   1.,    0.,  197.,   45.,  126.],\n",
       "       [   0.,    1.,  198.,   32.,  126.],\n",
       "       [   0.,    1.,  199.,   32.,  137.],\n",
       "       [   0.,    1.,  200.,   30.,  137.]])"
      ]
     },
     "execution_count": 149,
     "metadata": {},
     "output_type": "execute_result"
    }
   ],
   "source": [
    "X = onehotencod.fit_transform(X).toarray()\n",
    "X"
   ]
  },
  {
   "cell_type": "markdown",
   "metadata": {},
   "source": [
    "# Train Test Split"
   ]
  },
  {
   "cell_type": "code",
   "execution_count": 9,
   "metadata": {},
   "outputs": [
    {
     "data": {
      "text/html": [
       "<div>\n",
       "<style>\n",
       "    .dataframe thead tr:only-child th {\n",
       "        text-align: right;\n",
       "    }\n",
       "\n",
       "    .dataframe thead th {\n",
       "        text-align: left;\n",
       "    }\n",
       "\n",
       "    .dataframe tbody tr th {\n",
       "        vertical-align: top;\n",
       "    }\n",
       "</style>\n",
       "<table border=\"1\" class=\"dataframe\">\n",
       "  <thead>\n",
       "    <tr style=\"text-align: right;\">\n",
       "      <th></th>\n",
       "      <th>Pregnancies</th>\n",
       "      <th>Glucose</th>\n",
       "      <th>BloodPressure</th>\n",
       "      <th>SkinThickness</th>\n",
       "      <th>Insulin</th>\n",
       "      <th>BMI</th>\n",
       "      <th>DiabetesPedigreeFunction</th>\n",
       "      <th>Age</th>\n",
       "      <th>Outcome</th>\n",
       "      <th>Unnamed: 9</th>\n",
       "      <th>Unnamed: 10</th>\n",
       "      <th>Unnamed: 11</th>\n",
       "      <th>Unnamed: 12</th>\n",
       "    </tr>\n",
       "  </thead>\n",
       "  <tbody>\n",
       "    <tr>\n",
       "      <th>0</th>\n",
       "      <td>6</td>\n",
       "      <td>148</td>\n",
       "      <td>72</td>\n",
       "      <td>35</td>\n",
       "      <td>0</td>\n",
       "      <td>33.6</td>\n",
       "      <td>0.627</td>\n",
       "      <td>50</td>\n",
       "      <td>1</td>\n",
       "      <td>NaN</td>\n",
       "      <td>NaN</td>\n",
       "      <td>NaN</td>\n",
       "      <td>NaN</td>\n",
       "    </tr>\n",
       "    <tr>\n",
       "      <th>1</th>\n",
       "      <td>1</td>\n",
       "      <td>85</td>\n",
       "      <td>66</td>\n",
       "      <td>29</td>\n",
       "      <td>0</td>\n",
       "      <td>26.6</td>\n",
       "      <td>0.351</td>\n",
       "      <td>31</td>\n",
       "      <td>0</td>\n",
       "      <td>NaN</td>\n",
       "      <td>NaN</td>\n",
       "      <td>NaN</td>\n",
       "      <td>NaN</td>\n",
       "    </tr>\n",
       "    <tr>\n",
       "      <th>2</th>\n",
       "      <td>8</td>\n",
       "      <td>183</td>\n",
       "      <td>64</td>\n",
       "      <td>0</td>\n",
       "      <td>0</td>\n",
       "      <td>23.3</td>\n",
       "      <td>0.672</td>\n",
       "      <td>32</td>\n",
       "      <td>1</td>\n",
       "      <td>NaN</td>\n",
       "      <td>NaN</td>\n",
       "      <td>NaN</td>\n",
       "      <td>NaN</td>\n",
       "    </tr>\n",
       "    <tr>\n",
       "      <th>3</th>\n",
       "      <td>1</td>\n",
       "      <td>89</td>\n",
       "      <td>66</td>\n",
       "      <td>23</td>\n",
       "      <td>94</td>\n",
       "      <td>28.1</td>\n",
       "      <td>0.167</td>\n",
       "      <td>21</td>\n",
       "      <td>0</td>\n",
       "      <td>NaN</td>\n",
       "      <td>NaN</td>\n",
       "      <td>NaN</td>\n",
       "      <td>NaN</td>\n",
       "    </tr>\n",
       "    <tr>\n",
       "      <th>4</th>\n",
       "      <td>0</td>\n",
       "      <td>137</td>\n",
       "      <td>40</td>\n",
       "      <td>35</td>\n",
       "      <td>168</td>\n",
       "      <td>43.1</td>\n",
       "      <td>2.288</td>\n",
       "      <td>33</td>\n",
       "      <td>1</td>\n",
       "      <td>NaN</td>\n",
       "      <td>NaN</td>\n",
       "      <td>NaN</td>\n",
       "      <td>NaN</td>\n",
       "    </tr>\n",
       "  </tbody>\n",
       "</table>\n",
       "</div>"
      ],
      "text/plain": [
       "   Pregnancies  Glucose  BloodPressure  SkinThickness  Insulin   BMI  \\\n",
       "0            6      148             72             35        0  33.6   \n",
       "1            1       85             66             29        0  26.6   \n",
       "2            8      183             64              0        0  23.3   \n",
       "3            1       89             66             23       94  28.1   \n",
       "4            0      137             40             35      168  43.1   \n",
       "\n",
       "   DiabetesPedigreeFunction  Age  Outcome  Unnamed: 9 Unnamed: 10  \\\n",
       "0                     0.627   50        1         NaN         NaN   \n",
       "1                     0.351   31        0         NaN         NaN   \n",
       "2                     0.672   32        1         NaN         NaN   \n",
       "3                     0.167   21        0         NaN         NaN   \n",
       "4                     2.288   33        1         NaN         NaN   \n",
       "\n",
       "   Unnamed: 11 Unnamed: 12  \n",
       "0          NaN         NaN  \n",
       "1          NaN         NaN  \n",
       "2          NaN         NaN  \n",
       "3          NaN         NaN  \n",
       "4          NaN         NaN  "
      ]
     },
     "execution_count": 9,
     "metadata": {},
     "output_type": "execute_result"
    }
   ],
   "source": [
    "dataset = pd.read_csv('diabetes.csv')\n",
    "X = dataset.iloc[:,:-1].values \n",
    "y = dataset.iloc[:,8].values\n",
    "dataset.head()"
   ]
  },
  {
   "cell_type": "code",
   "execution_count": 10,
   "metadata": {
    "collapsed": true
   },
   "outputs": [],
   "source": [
    "np.set_printoptions(edgeitems=127)"
   ]
  },
  {
   "cell_type": "code",
   "execution_count": 11,
   "metadata": {},
   "outputs": [],
   "source": [
    "from sklearn.model_selection import train_test_split\n",
    "X_train, X_test, y_train, y_test = train_test_split(X, y, test_size = 0.2)"
   ]
  },
  {
   "cell_type": "markdown",
   "metadata": {},
   "source": [
    "# Feature Scaling"
   ]
  },
  {
   "cell_type": "code",
   "execution_count": null,
   "metadata": {},
   "outputs": [],
   "source": [
    "from sklearn.preprocessing import StandardScaler\n",
    "stdscalar = StandardScaler()\n",
    "X_train = stdscalar.fit_transform(X_train)\n",
    "X_test = stdscalar.transform(X_test)"
   ]
  },
  {
   "cell_type": "markdown",
   "metadata": {},
   "source": [
    "# Outlier Detection"
   ]
  },
  {
   "cell_type": "code",
   "execution_count": 23,
   "metadata": {},
   "outputs": [
    {
     "name": "stdout",
     "output_type": "stream",
     "text": [
      "(506, 13)\n",
      "['CRIM' 'ZN' 'INDUS' 'CHAS' 'NOX' 'RM' 'AGE' 'DIS' 'RAD' 'TAX' 'PTRATIO'\n",
      " 'B' 'LSTAT']\n"
     ]
    }
   ],
   "source": [
    "from sklearn.datasets import load_boston\n",
    "boston = load_boston()\n",
    "print(boston.data.shape)\n",
    "print(boston.feature_names)"
   ]
  },
  {
   "cell_type": "code",
   "execution_count": 24,
   "metadata": {},
   "outputs": [
    {
     "data": {
      "text/html": [
       "<div>\n",
       "<style>\n",
       "    .dataframe thead tr:only-child th {\n",
       "        text-align: right;\n",
       "    }\n",
       "\n",
       "    .dataframe thead th {\n",
       "        text-align: left;\n",
       "    }\n",
       "\n",
       "    .dataframe tbody tr th {\n",
       "        vertical-align: top;\n",
       "    }\n",
       "</style>\n",
       "<table border=\"1\" class=\"dataframe\">\n",
       "  <thead>\n",
       "    <tr style=\"text-align: right;\">\n",
       "      <th></th>\n",
       "      <th>0</th>\n",
       "      <th>1</th>\n",
       "      <th>2</th>\n",
       "      <th>3</th>\n",
       "      <th>4</th>\n",
       "      <th>5</th>\n",
       "      <th>6</th>\n",
       "      <th>7</th>\n",
       "      <th>8</th>\n",
       "      <th>9</th>\n",
       "      <th>10</th>\n",
       "      <th>11</th>\n",
       "      <th>12</th>\n",
       "    </tr>\n",
       "  </thead>\n",
       "  <tbody>\n",
       "    <tr>\n",
       "      <th>0</th>\n",
       "      <td>0.00632</td>\n",
       "      <td>18.0</td>\n",
       "      <td>2.31</td>\n",
       "      <td>0.0</td>\n",
       "      <td>0.538</td>\n",
       "      <td>6.575</td>\n",
       "      <td>65.2</td>\n",
       "      <td>4.0900</td>\n",
       "      <td>1.0</td>\n",
       "      <td>296.0</td>\n",
       "      <td>15.3</td>\n",
       "      <td>396.90</td>\n",
       "      <td>4.98</td>\n",
       "    </tr>\n",
       "    <tr>\n",
       "      <th>1</th>\n",
       "      <td>0.02731</td>\n",
       "      <td>0.0</td>\n",
       "      <td>7.07</td>\n",
       "      <td>0.0</td>\n",
       "      <td>0.469</td>\n",
       "      <td>6.421</td>\n",
       "      <td>78.9</td>\n",
       "      <td>4.9671</td>\n",
       "      <td>2.0</td>\n",
       "      <td>242.0</td>\n",
       "      <td>17.8</td>\n",
       "      <td>396.90</td>\n",
       "      <td>9.14</td>\n",
       "    </tr>\n",
       "    <tr>\n",
       "      <th>2</th>\n",
       "      <td>0.02729</td>\n",
       "      <td>0.0</td>\n",
       "      <td>7.07</td>\n",
       "      <td>0.0</td>\n",
       "      <td>0.469</td>\n",
       "      <td>7.185</td>\n",
       "      <td>61.1</td>\n",
       "      <td>4.9671</td>\n",
       "      <td>2.0</td>\n",
       "      <td>242.0</td>\n",
       "      <td>17.8</td>\n",
       "      <td>392.83</td>\n",
       "      <td>4.03</td>\n",
       "    </tr>\n",
       "    <tr>\n",
       "      <th>3</th>\n",
       "      <td>0.03237</td>\n",
       "      <td>0.0</td>\n",
       "      <td>2.18</td>\n",
       "      <td>0.0</td>\n",
       "      <td>0.458</td>\n",
       "      <td>6.998</td>\n",
       "      <td>45.8</td>\n",
       "      <td>6.0622</td>\n",
       "      <td>3.0</td>\n",
       "      <td>222.0</td>\n",
       "      <td>18.7</td>\n",
       "      <td>394.63</td>\n",
       "      <td>2.94</td>\n",
       "    </tr>\n",
       "    <tr>\n",
       "      <th>4</th>\n",
       "      <td>0.06905</td>\n",
       "      <td>0.0</td>\n",
       "      <td>2.18</td>\n",
       "      <td>0.0</td>\n",
       "      <td>0.458</td>\n",
       "      <td>7.147</td>\n",
       "      <td>54.2</td>\n",
       "      <td>6.0622</td>\n",
       "      <td>3.0</td>\n",
       "      <td>222.0</td>\n",
       "      <td>18.7</td>\n",
       "      <td>396.90</td>\n",
       "      <td>5.33</td>\n",
       "    </tr>\n",
       "  </tbody>\n",
       "</table>\n",
       "</div>"
      ],
      "text/plain": [
       "        0     1     2    3      4      5     6       7    8      9     10  \\\n",
       "0  0.00632  18.0  2.31  0.0  0.538  6.575  65.2  4.0900  1.0  296.0  15.3   \n",
       "1  0.02731   0.0  7.07  0.0  0.469  6.421  78.9  4.9671  2.0  242.0  17.8   \n",
       "2  0.02729   0.0  7.07  0.0  0.469  7.185  61.1  4.9671  2.0  242.0  17.8   \n",
       "3  0.03237   0.0  2.18  0.0  0.458  6.998  45.8  6.0622  3.0  222.0  18.7   \n",
       "4  0.06905   0.0  2.18  0.0  0.458  7.147  54.2  6.0622  3.0  222.0  18.7   \n",
       "\n",
       "       11    12  \n",
       "0  396.90  4.98  \n",
       "1  396.90  9.14  \n",
       "2  392.83  4.03  \n",
       "3  394.63  2.94  \n",
       "4  396.90  5.33  "
      ]
     },
     "execution_count": 24,
     "metadata": {},
     "output_type": "execute_result"
    }
   ],
   "source": [
    "boston = pd.DataFrame(boston.data)\n",
    "boston.head()"
   ]
  },
  {
   "cell_type": "markdown",
   "metadata": {},
   "source": [
    "## Outlier Detection through Boxplot"
   ]
  },
  {
   "cell_type": "code",
   "execution_count": 26,
   "metadata": {},
   "outputs": [
    {
     "data": {
      "text/plain": [
       "<matplotlib.axes._subplots.AxesSubplot at 0x1af510c87b8>"
      ]
     },
     "execution_count": 26,
     "metadata": {},
     "output_type": "execute_result"
    },
    {
     "data": {
      "image/png": "[encoded data removed]",
      "text/plain": [
       "<matplotlib.figure.Figure at 0x1af50de2518>"
      ]
     },
     "metadata": {},
     "output_type": "display_data"
    }
   ],
   "source": [
    "%matplotlib inline\n",
    "import seaborn as sns\n",
    "import matplotlib.pyplot as plt\n",
    "sns.boxplot(x=boston[7])"
   ]
  },
  {
   "cell_type": "code",
   "execution_count": 27,
   "metadata": {
    "collapsed": true
   },
   "outputs": [],
   "source": [
    "# Outlier Detection Part 2\n",
    "boston_c = boston"
   ]
  },
  {
   "cell_type": "markdown",
   "metadata": {},
   "source": [
    "## Outlier Detection through Scatter Plot"
   ]
  },
  {
   "cell_type": "code",
   "execution_count": 29,
   "metadata": {},
   "outputs": [
    {
     "data": {
      "image/png": "[encoded data removed]",
      "text/plain": [
       "<matplotlib.figure.Figure at 0x1af51385358>"
      ]
     },
     "metadata": {},
     "output_type": "display_data"
    }
   ],
   "source": [
    "fig, ax = plt.subplots(figsize=(16,8))\n",
    "ax.scatter(boston_c[2], boston_c[9])\n",
    "ax.set_xlabel('proportion of non-retail business acres per town')\n",
    "ax.set_ylabel('full-value property-tax rate per $10,000')\n",
    "plt.show()"
   ]
  },
  {
   "cell_type": "markdown",
   "metadata": {},
   "source": [
    "## Outlier Detection through Mathematical Method (Z-Score)"
   ]
  },
  {
   "cell_type": "code",
   "execution_count": 31,
   "metadata": {},
   "outputs": [
    {
     "name": "stdout",
     "output_type": "stream",
     "text": [
      "[[ 0.41771335  0.28482986  1.2879095  ...,  1.45900038  0.44105193\n",
      "   1.0755623 ]\n",
      " [ 0.41526932  0.48772236  0.59338101 ...,  0.30309415  0.44105193\n",
      "   0.49243937]\n",
      " [ 0.41527165  0.48772236  0.59338101 ...,  0.30309415  0.39642699\n",
      "   1.2087274 ]\n",
      " ..., \n",
      " [ 0.41137448  0.48772236  0.11573841 ...,  1.17646583  0.44105193\n",
      "   0.98304761]\n",
      " [ 0.40568883  0.48772236  0.11573841 ...,  1.17646583  0.4032249\n",
      "   0.86530163]\n",
      " [ 0.41292893  0.48772236  0.11573841 ...,  1.17646583  0.44105193\n",
      "   0.66905833]]\n"
     ]
    }
   ],
   "source": [
    "from scipy import stats\n",
    "zscore = np.abs(stats.zscore(boston_c))\n",
    "print(zscore)"
   ]
  },
  {
   "cell_type": "code",
   "execution_count": 32,
   "metadata": {},
   "outputs": [
    {
     "name": "stdout",
     "output_type": "stream",
     "text": [
      "(array([ 55,  56,  57, 102, 141, 142, 152, 154, 155, 160, 162, 163, 199,\n",
      "       200, 201, 202, 203, 204, 208, 209, 210, 211, 212, 216, 218, 219,\n",
      "       220, 221, 222, 225, 234, 236, 256, 257, 262, 269, 273, 274, 276,\n",
      "       277, 282, 283, 283, 284, 347, 351, 352, 353, 353, 354, 355, 356,\n",
      "       357, 358, 363, 364, 364, 365, 367, 369, 370, 372, 373, 374, 374,\n",
      "       380, 398, 404, 405, 406, 410, 410, 411, 412, 412, 414, 414, 415,\n",
      "       416, 418, 418, 419, 423, 424, 425, 426, 427, 427, 429, 431, 436,\n",
      "       437, 438, 445, 450, 454, 455, 456, 457, 466], dtype=int64), array([ 1,  1,  1, 11, 12,  3,  3,  3,  3,  3,  3,  3,  1,  1,  1,  1,  1,\n",
      "        1,  3,  3,  3,  3,  3,  3,  3,  3,  3,  3,  3,  5,  3,  3,  1,  5,\n",
      "        5,  3,  3,  3,  3,  3,  3,  1,  3,  1,  1,  7,  7,  1,  7,  7,  7,\n",
      "        3,  3,  3,  3,  3,  5,  5,  5,  3,  3,  3, 12,  5, 12,  0,  0,  0,\n",
      "        0,  5,  0, 11, 11, 11, 12,  0, 12, 11, 11,  0, 11, 11, 11, 11, 11,\n",
      "       11,  0, 11, 11, 11, 11, 11, 11, 11, 11, 11, 11, 11, 11, 11], dtype=int64))\n"
     ]
    }
   ],
   "source": [
    "threshold = 3\n",
    "print(np.where(zscore > 3))"
   ]
  },
  {
   "cell_type": "code",
   "execution_count": 33,
   "metadata": {},
   "outputs": [
    {
     "name": "stdout",
     "output_type": "stream",
     "text": [
      "3.13442532791\n"
     ]
    }
   ],
   "source": [
    "print(zscore[102][11])"
   ]
  },
  {
   "cell_type": "markdown",
   "metadata": {},
   "source": [
    "## Outlier Detection through Mathematical Method (Inter Quartile Range)"
   ]
  },
  {
   "cell_type": "code",
   "execution_count": 35,
   "metadata": {},
   "outputs": [
    {
     "name": "stdout",
     "output_type": "stream",
     "text": [
      "0       3.565378\n",
      "1      12.500000\n",
      "2      12.910000\n",
      "3       0.000000\n",
      "4       0.175000\n",
      "5       0.738000\n",
      "6      49.050000\n",
      "7       3.088250\n",
      "8      20.000000\n",
      "9     387.000000\n",
      "10      2.800000\n",
      "11     20.847500\n",
      "12     10.005000\n",
      "dtype: float64\n"
     ]
    }
   ],
   "source": [
    "boston_iqr = boston\n",
    "Q1 = boston_iqr.quantile(0.25)\n",
    "Q3 = boston_iqr.quantile(0.75)\n",
    "IQR = Q3 - Q1\n",
    "print(IQR)"
   ]
  },
  {
   "cell_type": "code",
   "execution_count": 40,
   "metadata": {},
   "outputs": [
    {
     "name": "stdout",
     "output_type": "stream",
     "text": [
      "        0      1      2      3      4      5      6      7      8      9   \\\n",
      "0    False  False  False  False  False  False  False  False  False  False   \n",
      "1    False  False  False  False  False  False  False  False  False  False   \n",
      "2    False  False  False  False  False  False  False  False  False  False   \n",
      "3    False  False  False  False  False  False  False  False  False  False   \n",
      "4    False  False  False  False  False  False  False  False  False  False   \n",
      "5    False  False  False  False  False  False  False  False  False  False   \n",
      "6    False  False  False  False  False  False  False  False  False  False   \n",
      "7    False  False  False  False  False  False  False  False  False  False   \n",
      "8    False  False  False  False  False  False  False  False  False  False   \n",
      "9    False  False  False  False  False  False  False  False  False  False   \n",
      "10   False  False  False  False  False  False  False  False  False  False   \n",
      "11   False  False  False  False  False  False  False  False  False  False   \n",
      "12   False  False  False  False  False  False  False  False  False  False   \n",
      "13   False  False  False  False  False  False  False  False  False  False   \n",
      "14   False  False  False  False  False  False  False  False  False  False   \n",
      "15   False  False  False  False  False  False  False  False  False  False   \n",
      "16   False  False  False  False  False  False  False  False  False  False   \n",
      "17   False  False  False  False  False  False  False  False  False  False   \n",
      "18   False  False  False  False  False  False  False  False  False  False   \n",
      "19   False  False  False  False  False  False  False  False  False  False   \n",
      "20   False  False  False  False  False  False  False  False  False  False   \n",
      "21   False  False  False  False  False  False  False  False  False  False   \n",
      "22   False  False  False  False  False  False  False  False  False  False   \n",
      "23   False  False  False  False  False  False  False  False  False  False   \n",
      "24   False  False  False  False  False  False  False  False  False  False   \n",
      "25   False  False  False  False  False  False  False  False  False  False   \n",
      "26   False  False  False  False  False  False  False  False  False  False   \n",
      "27   False  False  False  False  False  False  False  False  False  False   \n",
      "28   False  False  False  False  False  False  False  False  False  False   \n",
      "29   False  False  False  False  False  False  False  False  False  False   \n",
      "..     ...    ...    ...    ...    ...    ...    ...    ...    ...    ...   \n",
      "476  False  False  False  False  False  False  False  False  False  False   \n",
      "477  False  False  False  False  False  False  False  False  False  False   \n",
      "478  False  False  False  False  False  False  False  False  False  False   \n",
      "479  False  False  False  False  False  False  False  False  False  False   \n",
      "480  False  False  False  False  False  False  False  False  False  False   \n",
      "481  False  False  False  False  False  False  False  False  False  False   \n",
      "482  False  False  False  False  False  False  False  False  False  False   \n",
      "483  False  False  False  False  False  False  False  False  False  False   \n",
      "484  False  False  False  False  False  False  False  False  False  False   \n",
      "485  False  False  False  False  False  False  False  False  False  False   \n",
      "486  False  False  False  False  False  False  False  False  False  False   \n",
      "487  False  False  False  False  False  False  False  False  False  False   \n",
      "488  False  False  False  False  False  False  False  False  False  False   \n",
      "489  False  False  False  False  False  False  False  False  False  False   \n",
      "490  False  False  False  False  False  False  False  False  False  False   \n",
      "491  False  False  False  False  False  False  False  False  False  False   \n",
      "492  False  False  False  False  False  False  False  False  False  False   \n",
      "493  False  False  False  False  False  False  False  False  False  False   \n",
      "494  False  False  False  False  False  False  False  False  False  False   \n",
      "495  False  False  False  False  False  False  False  False  False  False   \n",
      "496  False  False  False  False  False  False  False  False  False  False   \n",
      "497  False  False  False  False  False  False  False  False  False  False   \n",
      "498  False  False  False  False  False  False  False  False  False  False   \n",
      "499  False  False  False  False  False  False  False  False  False  False   \n",
      "500  False  False  False  False  False  False  False  False  False  False   \n",
      "501  False  False  False  False  False  False  False  False  False  False   \n",
      "502  False  False  False  False  False  False  False  False  False  False   \n",
      "503  False  False  False  False  False  False  False  False  False  False   \n",
      "504  False  False  False  False  False  False  False  False  False  False   \n",
      "505  False  False  False  False  False  False  False  False  False  False   \n",
      "\n",
      "        10     11     12  \n",
      "0    False  False  False  \n",
      "1    False  False  False  \n",
      "2    False  False  False  \n",
      "3    False  False  False  \n",
      "4    False  False  False  \n",
      "5    False  False  False  \n",
      "6    False  False  False  \n",
      "7    False  False  False  \n",
      "8    False  False  False  \n",
      "9    False  False  False  \n",
      "10   False  False  False  \n",
      "11   False  False  False  \n",
      "12   False  False  False  \n",
      "13   False  False  False  \n",
      "14   False  False  False  \n",
      "15   False  False  False  \n",
      "16   False  False  False  \n",
      "17   False  False  False  \n",
      "18   False   True  False  \n",
      "19   False  False  False  \n",
      "20   False  False  False  \n",
      "21   False  False  False  \n",
      "22   False  False  False  \n",
      "23   False  False  False  \n",
      "24   False  False  False  \n",
      "25   False   True  False  \n",
      "26   False  False  False  \n",
      "27   False   True  False  \n",
      "28   False  False  False  \n",
      "29   False  False  False  \n",
      "..     ...    ...    ...  \n",
      "476  False  False  False  \n",
      "477  False  False  False  \n",
      "478  False  False  False  \n",
      "479  False  False  False  \n",
      "480  False  False  False  \n",
      "481  False  False  False  \n",
      "482  False  False  False  \n",
      "483  False  False  False  \n",
      "484  False  False  False  \n",
      "485  False  False  False  \n",
      "486  False  False  False  \n",
      "487  False  False  False  \n",
      "488  False  False  False  \n",
      "489  False   True  False  \n",
      "490  False   True  False  \n",
      "491  False  False  False  \n",
      "492  False  False  False  \n",
      "493  False  False  False  \n",
      "494  False  False  False  \n",
      "495  False  False  False  \n",
      "496  False  False  False  \n",
      "497  False  False  False  \n",
      "498  False  False  False  \n",
      "499  False  False  False  \n",
      "500  False  False  False  \n",
      "501  False  False  False  \n",
      "502  False  False  False  \n",
      "503  False  False  False  \n",
      "504  False  False  False  \n",
      "505  False  False  False  \n",
      "\n",
      "[506 rows x 13 columns]\n"
     ]
    },
    {
     "ename": "TypeError",
     "evalue": "Could not compare [None] with block values",
     "output_type": "error",
     "traceback": [
      "\u001b[1;31m---------------------------------------------------------------------------\u001b[0m",
      "\u001b[1;31mTypeError\u001b[0m                                 Traceback (most recent call last)",
      "\u001b[1;32m<ipython-input-40-749addc10660>\u001b[0m in \u001b[0;36m<module>\u001b[1;34m()\u001b[0m\n\u001b[1;32m----> 1\u001b[1;33m \u001b[0mprint\u001b[0m\u001b[1;33m(\u001b[0m\u001b[0mboston_iqr\u001b[0m \u001b[1;33m<\u001b[0m \u001b[1;33m(\u001b[0m\u001b[0mQ1\u001b[0m \u001b[1;33m-\u001b[0m \u001b[1;36m1.5\u001b[0m \u001b[1;33m*\u001b[0m \u001b[0mIQR\u001b[0m\u001b[1;33m)\u001b[0m\u001b[1;33m)\u001b[0m \u001b[1;33m|\u001b[0m \u001b[1;33m(\u001b[0m\u001b[0mboston_iqr\u001b[0m \u001b[1;33m>\u001b[0m \u001b[1;33m(\u001b[0m\u001b[0mQ3\u001b[0m \u001b[1;33m+\u001b[0m \u001b[1;36m1.5\u001b[0m \u001b[1;33m*\u001b[0m \u001b[0mIQR\u001b[0m\u001b[1;33m)\u001b[0m\u001b[1;33m)\u001b[0m\u001b[1;33m\u001b[0m\u001b[0m\n\u001b[0m",
      "\u001b[1;32mC:\\Users\\Nitin\\Anaconda3\\lib\\site-packages\\pandas\\core\\ops.py\u001b[0m in \u001b[0;36mf\u001b[1;34m(self, other, axis, level, fill_value)\u001b[0m\n\u001b[0;32m   1239\u001b[0m                 \u001b[0mself\u001b[0m \u001b[1;33m=\u001b[0m \u001b[0mself\u001b[0m\u001b[1;33m.\u001b[0m\u001b[0mfillna\u001b[0m\u001b[1;33m(\u001b[0m\u001b[0mfill_value\u001b[0m\u001b[1;33m)\u001b[0m\u001b[1;33m\u001b[0m\u001b[0m\n\u001b[0;32m   1240\u001b[0m \u001b[1;33m\u001b[0m\u001b[0m\n\u001b[1;32m-> 1241\u001b[1;33m             \u001b[1;32mreturn\u001b[0m \u001b[0mself\u001b[0m\u001b[1;33m.\u001b[0m\u001b[0m_combine_const\u001b[0m\u001b[1;33m(\u001b[0m\u001b[0mother\u001b[0m\u001b[1;33m,\u001b[0m \u001b[0mna_op\u001b[0m\u001b[1;33m)\u001b[0m\u001b[1;33m\u001b[0m\u001b[0m\n\u001b[0m\u001b[0;32m   1242\u001b[0m \u001b[1;33m\u001b[0m\u001b[0m\n\u001b[0;32m   1243\u001b[0m     \u001b[0mf\u001b[0m\u001b[1;33m.\u001b[0m\u001b[0m__name__\u001b[0m \u001b[1;33m=\u001b[0m \u001b[0mname\u001b[0m\u001b[1;33m\u001b[0m\u001b[0m\n",
      "\u001b[1;32mC:\\Users\\Nitin\\Anaconda3\\lib\\site-packages\\pandas\\core\\frame.py\u001b[0m in \u001b[0;36m_combine_const\u001b[1;34m(self, other, func, raise_on_error)\u001b[0m\n\u001b[0;32m   3639\u001b[0m     \u001b[1;32mdef\u001b[0m \u001b[0m_combine_const\u001b[0m\u001b[1;33m(\u001b[0m\u001b[0mself\u001b[0m\u001b[1;33m,\u001b[0m \u001b[0mother\u001b[0m\u001b[1;33m,\u001b[0m \u001b[0mfunc\u001b[0m\u001b[1;33m,\u001b[0m \u001b[0mraise_on_error\u001b[0m\u001b[1;33m=\u001b[0m\u001b[1;32mTrue\u001b[0m\u001b[1;33m)\u001b[0m\u001b[1;33m:\u001b[0m\u001b[1;33m\u001b[0m\u001b[0m\n\u001b[0;32m   3640\u001b[0m         new_data = self._data.eval(func=func, other=other,\n\u001b[1;32m-> 3641\u001b[1;33m                                    raise_on_error=raise_on_error)\n\u001b[0m\u001b[0;32m   3642\u001b[0m         \u001b[1;32mreturn\u001b[0m \u001b[0mself\u001b[0m\u001b[1;33m.\u001b[0m\u001b[0m_constructor\u001b[0m\u001b[1;33m(\u001b[0m\u001b[0mnew_data\u001b[0m\u001b[1;33m)\u001b[0m\u001b[1;33m\u001b[0m\u001b[0m\n\u001b[0;32m   3643\u001b[0m \u001b[1;33m\u001b[0m\u001b[0m\n",
      "\u001b[1;32mC:\\Users\\Nitin\\Anaconda3\\lib\\site-packages\\pandas\\core\\internals.py\u001b[0m in \u001b[0;36meval\u001b[1;34m(self, **kwargs)\u001b[0m\n\u001b[0;32m   3195\u001b[0m \u001b[1;33m\u001b[0m\u001b[0m\n\u001b[0;32m   3196\u001b[0m     \u001b[1;32mdef\u001b[0m \u001b[0meval\u001b[0m\u001b[1;33m(\u001b[0m\u001b[0mself\u001b[0m\u001b[1;33m,\u001b[0m \u001b[1;33m**\u001b[0m\u001b[0mkwargs\u001b[0m\u001b[1;33m)\u001b[0m\u001b[1;33m:\u001b[0m\u001b[1;33m\u001b[0m\u001b[0m\n\u001b[1;32m-> 3197\u001b[1;33m         \u001b[1;32mreturn\u001b[0m \u001b[0mself\u001b[0m\u001b[1;33m.\u001b[0m\u001b[0mapply\u001b[0m\u001b[1;33m(\u001b[0m\u001b[1;34m'eval'\u001b[0m\u001b[1;33m,\u001b[0m \u001b[1;33m**\u001b[0m\u001b[0mkwargs\u001b[0m\u001b[1;33m)\u001b[0m\u001b[1;33m\u001b[0m\u001b[0m\n\u001b[0m\u001b[0;32m   3198\u001b[0m \u001b[1;33m\u001b[0m\u001b[0m\n\u001b[0;32m   3199\u001b[0m     \u001b[1;32mdef\u001b[0m \u001b[0mquantile\u001b[0m\u001b[1;33m(\u001b[0m\u001b[0mself\u001b[0m\u001b[1;33m,\u001b[0m \u001b[1;33m**\u001b[0m\u001b[0mkwargs\u001b[0m\u001b[1;33m)\u001b[0m\u001b[1;33m:\u001b[0m\u001b[1;33m\u001b[0m\u001b[0m\n",
      "\u001b[1;32mC:\\Users\\Nitin\\Anaconda3\\lib\\site-packages\\pandas\\core\\internals.py\u001b[0m in \u001b[0;36mapply\u001b[1;34m(self, f, axes, filter, do_integrity_check, consolidate, **kwargs)\u001b[0m\n\u001b[0;32m   3089\u001b[0m \u001b[1;33m\u001b[0m\u001b[0m\n\u001b[0;32m   3090\u001b[0m             \u001b[0mkwargs\u001b[0m\u001b[1;33m[\u001b[0m\u001b[1;34m'mgr'\u001b[0m\u001b[1;33m]\u001b[0m \u001b[1;33m=\u001b[0m \u001b[0mself\u001b[0m\u001b[1;33m\u001b[0m\u001b[0m\n\u001b[1;32m-> 3091\u001b[1;33m             \u001b[0mapplied\u001b[0m \u001b[1;33m=\u001b[0m \u001b[0mgetattr\u001b[0m\u001b[1;33m(\u001b[0m\u001b[0mb\u001b[0m\u001b[1;33m,\u001b[0m \u001b[0mf\u001b[0m\u001b[1;33m)\u001b[0m\u001b[1;33m(\u001b[0m\u001b[1;33m**\u001b[0m\u001b[0mkwargs\u001b[0m\u001b[1;33m)\u001b[0m\u001b[1;33m\u001b[0m\u001b[0m\n\u001b[0m\u001b[0;32m   3092\u001b[0m             \u001b[0mresult_blocks\u001b[0m \u001b[1;33m=\u001b[0m \u001b[0m_extend_blocks\u001b[0m\u001b[1;33m(\u001b[0m\u001b[0mapplied\u001b[0m\u001b[1;33m,\u001b[0m \u001b[0mresult_blocks\u001b[0m\u001b[1;33m)\u001b[0m\u001b[1;33m\u001b[0m\u001b[0m\n\u001b[0;32m   3093\u001b[0m \u001b[1;33m\u001b[0m\u001b[0m\n",
      "\u001b[1;32mC:\\Users\\Nitin\\Anaconda3\\lib\\site-packages\\pandas\\core\\internals.py\u001b[0m in \u001b[0;36meval\u001b[1;34m(self, func, other, raise_on_error, try_cast, mgr)\u001b[0m\n\u001b[0;32m   1203\u001b[0m \u001b[1;33m\u001b[0m\u001b[0m\n\u001b[0;32m   1204\u001b[0m                 raise TypeError('Could not compare [%s] with block values' %\n\u001b[1;32m-> 1205\u001b[1;33m                                 repr(other))\n\u001b[0m\u001b[0;32m   1206\u001b[0m \u001b[1;33m\u001b[0m\u001b[0m\n\u001b[0;32m   1207\u001b[0m         \u001b[1;31m# transpose if needed\u001b[0m\u001b[1;33m\u001b[0m\u001b[1;33m\u001b[0m\u001b[0m\n",
      "\u001b[1;31mTypeError\u001b[0m: Could not compare [None] with block values"
     ]
    }
   ],
   "source": [
    "print(boston_iqr < (Q1 - 1.5 * IQR)) | (boston_iqr > (Q3 + 1.5 * IQR))"
   ]
  },
  {
   "cell_type": "markdown",
   "metadata": {
    "collapsed": true
   },
   "source": [
    "## Handle Outliers/Correct Outliers"
   ]
  },
  {
   "cell_type": "code",
   "execution_count": 41,
   "metadata": {
    "collapsed": true
   },
   "outputs": [],
   "source": [
    "boston_clean = boston\n",
    "boston_clean = boston_clean[(zscore < 3).all(axis=1)]"
   ]
  },
  {
   "cell_type": "code",
   "execution_count": 42,
   "metadata": {},
   "outputs": [
    {
     "data": {
      "text/plain": [
       "(506, 13)"
      ]
     },
     "execution_count": 42,
     "metadata": {},
     "output_type": "execute_result"
    }
   ],
   "source": [
    "boston.shape"
   ]
  },
  {
   "cell_type": "code",
   "execution_count": 43,
   "metadata": {},
   "outputs": [
    {
     "data": {
      "text/plain": [
       "(415, 13)"
      ]
     },
     "execution_count": 43,
     "metadata": {},
     "output_type": "execute_result"
    }
   ],
   "source": [
    "boston_clean.shape"
   ]
  },
  {
   "cell_type": "code",
   "execution_count": 46,
   "metadata": {
    "collapsed": true
   },
   "outputs": [],
   "source": [
    "#Remove Outliers using IQR\n",
    "boston_iqr_clean = boston_iqr[~((boston_iqr < (Q1 - 1.5 * IQR)) | (boston_iqr > (Q3 + 1.5 * IQR))).any(axis=1)]\n"
   ]
  },
  {
   "cell_type": "code",
   "execution_count": null,
   "metadata": {
    "collapsed": true
   },
   "outputs": [],
   "source": []
  },
  {
   "cell_type": "code",
   "execution_count": null,
   "metadata": {
    "collapsed": true
   },
   "outputs": [],
   "source": []
  },
  {
   "cell_type": "code",
   "execution_count": null,
   "metadata": {
    "collapsed": true
   },
   "outputs": [],
   "source": []
  },
  {
   "cell_type": "code",
   "execution_count": null,
   "metadata": {
    "collapsed": true
   },
   "outputs": [],
   "source": []
  },
  {
   "cell_type": "code",
   "execution_count": null,
   "metadata": {
    "collapsed": true
   },
   "outputs": [],
   "source": []
  },
  {
   "cell_type": "code",
   "execution_count": null,
   "metadata": {
    "collapsed": true
   },
   "outputs": [],
   "source": []
  },
  {
   "cell_type": "code",
   "execution_count": null,
   "metadata": {
    "collapsed": true
   },
   "outputs": [],
   "source": []
  },
  {
   "cell_type": "code",
   "execution_count": null,
   "metadata": {
    "collapsed": true
   },
   "outputs": [],
   "source": []
  }
 ],
 "metadata": {
  "kernelspec": {
   "display_name": "Python 3",
   "language": "python",
   "name": "python3"
  },
  "language_info": {
   "codemirror_mode": {
    "name": "ipython",
    "version": 3
   },
   "file_extension": ".py",
   "mimetype": "text/x-python",
   "name": "python",
   "nbconvert_exporter": "python",
   "pygments_lexer": "ipython3",
   "version": "3.6.1"
  }
 },
 "nbformat": 4,
 "nbformat_minor": 2
}
